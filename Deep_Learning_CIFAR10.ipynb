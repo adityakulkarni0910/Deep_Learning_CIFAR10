{
  "nbformat": 4,
  "nbformat_minor": 0,
  "metadata": {
    "kernelspec": {
      "display_name": "Python 3",
      "language": "python",
      "name": "python3"
    },
    "language_info": {
      "codemirror_mode": {
        "name": "ipython",
        "version": 3
      },
      "file_extension": ".py",
      "mimetype": "text/x-python",
      "name": "python",
      "nbconvert_exporter": "python",
      "pygments_lexer": "ipython3",
      "version": "3.6.8"
    },
    "colab": {
      "name": "Deep_Learning_CIFAR10.ipynb",
      "provenance": [],
      "collapsed_sections": [
        "fg0RYcqi18lt",
        "AcCMcxlf18l2",
        "fjnbgG7I18mF",
        "Zz9jz_UW18mP",
        "pupg89ZI18mX"
      ],
      "toc_visible": true,
      "machine_shape": "hm",
      "include_colab_link": true
    },
    "accelerator": "GPU"
  },
  "cells": [
    {
      "cell_type": "markdown",
      "metadata": {
        "id": "view-in-github",
        "colab_type": "text"
      },
      "source": [
        "<a href=\"https://colab.research.google.com/github/adityakulkarni0910/Deep_Learning_CIFAR10/blob/main/Deep_Learning_CIFAR10.ipynb\" target=\"_parent\"><img src=\"https://colab.research.google.com/assets/colab-badge.svg\" alt=\"Open In Colab\"/></a>"
      ]
    },
    {
      "cell_type": "markdown",
      "metadata": {
        "id": "ILp7WLm54mFy"
      },
      "source": [
        "#Mount drive"
      ]
    },
    {
      "cell_type": "code",
      "metadata": {
        "id": "TlS6_fpX2-Lc",
        "outputId": "8d201546-d5f9-4a22-8164-ecf17475184f",
        "colab": {
          "base_uri": "https://localhost:8080/",
          "height": 34
        }
      },
      "source": [
        "from google.colab import drive\n",
        "drive.mount('/content/drive')"
      ],
      "execution_count": null,
      "outputs": [
        {
          "output_type": "stream",
          "text": [
            "Drive already mounted at /content/drive; to attempt to forcibly remount, call drive.mount(\"/content/drive\", force_remount=True).\n"
          ],
          "name": "stdout"
        }
      ]
    },
    {
      "cell_type": "code",
      "metadata": {
        "id": "-WAJzVG53RVc"
      },
      "source": [
        "from pathlib import Path"
      ],
      "execution_count": null,
      "outputs": []
    },
    {
      "cell_type": "code",
      "metadata": {
        "id": "ev20k2hx3xRW"
      },
      "source": [
        "folder = Path('/content/drive/My Drive/Study/DL/HW4')"
      ],
      "execution_count": null,
      "outputs": []
    },
    {
      "cell_type": "markdown",
      "metadata": {
        "id": "RkVh8hk518ko"
      },
      "source": [
        "# Loading and Processing Data "
      ]
    },
    {
      "cell_type": "code",
      "metadata": {
        "id": "z2bL1m0118kp",
        "outputId": "fde13a83-54ab-4887-a356-1071ed256f6a",
        "colab": {
          "base_uri": "https://localhost:8080/",
          "height": 52
        }
      },
      "source": [
        "from torchvision import datasets\n",
        "import torchvision.transforms as transforms\n",
        "\n",
        "   \n",
        "# define transformation\n",
        "data_transformer = transforms.Compose([transforms.ToTensor()])\n",
        "    \n",
        "# loading data\n",
        "train0_ds=datasets.CIFAR10(folder, train=True, download=True,transform=data_transformer)\n",
        "\n",
        "# print out data shape\n",
        "print(train0_ds.data.shape)"
      ],
      "execution_count": null,
      "outputs": [
        {
          "output_type": "stream",
          "text": [
            "Files already downloaded and verified\n",
            "(50000, 32, 32, 3)\n"
          ],
          "name": "stdout"
        }
      ]
    },
    {
      "cell_type": "markdown",
      "metadata": {
        "id": "MtjFlIUs5XzQ"
      },
      "source": [
        "## Next, split the indices of train0_ds into two groups:"
      ]
    },
    {
      "cell_type": "code",
      "metadata": {
        "id": "GtDWv6Of18kz",
        "outputId": "8d65a348-af58-4527-9ee4-cc6ddff23c7b",
        "colab": {
          "base_uri": "https://localhost:8080/",
          "height": 52
        }
      },
      "source": [
        "from sklearn.model_selection import StratifiedShuffleSplit\n",
        "\n",
        "sss = StratifiedShuffleSplit(n_splits=1, test_size=0.2, random_state=0)\n",
        "\n",
        "indices=list(range(len(train0_ds)))\n",
        "y_test0=[y for _,y in train0_ds]\n",
        "for train_index, val_index in sss.split(indices, y_test0):\n",
        "    print(\"train:\", train_index, \"val:\", val_index)\n",
        "    print(len(val_index),len(train_index))"
      ],
      "execution_count": null,
      "outputs": [
        {
          "output_type": "stream",
          "text": [
            "train: [25283 41058 20536 ... 29153 41456 11622] val: [40186 33482 35563 ... 34231 29571 11114]\n",
            "10000 40000\n"
          ],
          "name": "stdout"
        }
      ]
    },
    {
      "cell_type": "markdown",
      "metadata": {
        "id": "WJ_yN3-q6WzG"
      },
      "source": [
        "## Create Validation and test dataset"
      ]
    },
    {
      "cell_type": "code",
      "metadata": {
        "id": "K1-7Kox318k3"
      },
      "source": [
        "from torch.utils.data import Subset\n",
        "\n",
        "val_ds=Subset(train0_ds,val_index)\n",
        "train_ds=Subset(train0_ds,train_index)"
      ],
      "execution_count": null,
      "outputs": []
    },
    {
      "cell_type": "markdown",
      "metadata": {
        "id": "vG0lAdBt4h3j"
      },
      "source": [
        "## Count number of images per category"
      ]
    },
    {
      "cell_type": "code",
      "metadata": {
        "id": "2PedQg-M18kt",
        "outputId": "fd0289dc-6e40-47d2-aea7-c236d8a5f42b",
        "colab": {
          "base_uri": "https://localhost:8080/",
          "height": 34
        }
      },
      "source": [
        "import collections\n",
        "\n",
        "# get labels\n",
        "y_train=[y for _,y in train_ds]\n",
        "\n",
        "# count labels\n",
        "counter_train=collections.Counter(y_train)\n",
        "print(counter_train)"
      ],
      "execution_count": null,
      "outputs": [
        {
          "output_type": "stream",
          "text": [
            "Counter({7: 4000, 4: 4000, 1: 4000, 5: 4000, 6: 4000, 8: 4000, 9: 4000, 0: 4000, 3: 4000, 2: 4000})\n"
          ],
          "name": "stdout"
        }
      ]
    },
    {
      "cell_type": "code",
      "metadata": {
        "id": "k51Jk1yM18kw",
        "outputId": "793cb361-1988-4742-87b6-d6c3355d2cad",
        "colab": {
          "base_uri": "https://localhost:8080/",
          "height": 52
        }
      },
      "source": [
        "# loading data\n",
        "test_ds=datasets.CIFAR10(folder, train=False, download=True,transform=data_transformer)\n",
        "print(test_ds.data.shape)"
      ],
      "execution_count": null,
      "outputs": [
        {
          "output_type": "stream",
          "text": [
            "Files already downloaded and verified\n",
            "(10000, 32, 32, 3)\n"
          ],
          "name": "stdout"
        }
      ]
    },
    {
      "cell_type": "markdown",
      "metadata": {
        "id": "Eo_4Ntbm6g-P"
      },
      "source": [
        "## count the number of images per class in val_ds and test_ds"
      ]
    },
    {
      "cell_type": "code",
      "metadata": {
        "id": "b4K5No8h18k6",
        "outputId": "e06eb550-7f67-463c-f869-1c080f00e441",
        "colab": {
          "base_uri": "https://localhost:8080/",
          "height": 52
        }
      },
      "source": [
        "import collections\n",
        "import numpy as np\n",
        "\n",
        "# get labels\n",
        "y_test=[y for _,y in test_ds]\n",
        "y_val=[y for _,y in val_ds]\n",
        "\n",
        "counter_test=collections.Counter(y_test)\n",
        "counter_val=collections.Counter(y_val)\n",
        "\n",
        "print(counter_test)\n",
        "print(counter_val)"
      ],
      "execution_count": null,
      "outputs": [
        {
          "output_type": "stream",
          "text": [
            "Counter({3: 1000, 8: 1000, 0: 1000, 6: 1000, 1: 1000, 9: 1000, 5: 1000, 7: 1000, 4: 1000, 2: 1000})\n",
            "Counter({4: 1000, 3: 1000, 2: 1000, 8: 1000, 5: 1000, 7: 1000, 6: 1000, 0: 1000, 9: 1000, 1: 1000})\n"
          ],
          "name": "stdout"
        }
      ]
    },
    {
      "cell_type": "markdown",
      "metadata": {
        "id": "tZE88uf27AVG"
      },
      "source": [
        "##  Show a few sample images from train_ds"
      ]
    },
    {
      "cell_type": "code",
      "metadata": {
        "id": "xi-PR5MP18k9",
        "outputId": "37f0ea86-af5f-4775-942c-73743d611e3b",
        "colab": {
          "base_uri": "https://localhost:8080/",
          "height": 244
        }
      },
      "source": [
        "from torchvision import utils\n",
        "import matplotlib.pyplot as plt\n",
        "import numpy as np\n",
        "%matplotlib inline\n",
        "\n",
        "# fix random seed\n",
        "np.random.seed(0)\n",
        "\n",
        "def show(img,y=None,color=True):\n",
        "    npimg = img.numpy()\n",
        "    npimg_tr=np.transpose(npimg, (1,2,0))\n",
        "    plt.imshow(npimg_tr)\n",
        "    if y is not None:\n",
        "        plt.title(\"label: \"+str(y))\n",
        "        \n",
        "grid_size=4\n",
        "rnd_inds=np.random.randint(0,len(train_ds),grid_size)\n",
        "print(\"image indices:\",rnd_inds)\n",
        "\n",
        "x_grid=[train_ds[i][0] for i in rnd_inds]\n",
        "y_grid=[train_ds[i][1] for i in rnd_inds]\n",
        "\n",
        "x_grid=utils.make_grid(x_grid, nrow=4, padding=2)\n",
        "print(x_grid.shape)\n",
        "\n",
        "# call helper function\n",
        "plt.figure(figsize=(10,10))\n",
        "show(x_grid,y_grid)"
      ],
      "execution_count": null,
      "outputs": [
        {
          "output_type": "stream",
          "text": [
            "image indices: [ 2732 21243 30403 32103]\n",
            "torch.Size([3, 36, 138])\n"
          ],
          "name": "stdout"
        },
        {
          "output_type": "display_data",
          "data": {
            "image/png": "[encoded data removed]",
            "text/plain": [
              "<Figure size 720x720 with 1 Axes>"
            ]
          },
          "metadata": {
            "tags": [],
            "needs_background": "light"
          }
        }
      ]
    },
    {
      "cell_type": "markdown",
      "metadata": {
        "id": "1uQ5JAQp7O_Z"
      },
      "source": [
        "## Show a few sample images from val_ds"
      ]
    },
    {
      "cell_type": "code",
      "metadata": {
        "id": "a53Hc8-i18lA",
        "outputId": "b46ec7a6-8db7-49e7-ae45-bdad152857f5",
        "colab": {
          "base_uri": "https://localhost:8080/",
          "height": 244
        }
      },
      "source": [
        "np.random.seed(0)\n",
        "\n",
        "grid_size=4\n",
        "rnd_inds=np.random.randint(0,len(val_ds),grid_size)\n",
        "print(\"image indices:\",rnd_inds)\n",
        "\n",
        "x_grid=[val_ds[i][0] for i in rnd_inds]\n",
        "y_grid=[val_ds[i][1] for i in rnd_inds]\n",
        "\n",
        "x_grid=utils.make_grid(x_grid, nrow=4, padding=2)\n",
        "print(x_grid.shape)\n",
        "\n",
        "# call helper function\n",
        "plt.figure(figsize=(10,10))\n",
        "show(x_grid,y_grid)"
      ],
      "execution_count": null,
      "outputs": [
        {
          "output_type": "stream",
          "text": [
            "image indices: [2732 9845 3264 4859]\n",
            "torch.Size([3, 36, 138])\n"
          ],
          "name": "stdout"
        },
        {
          "output_type": "display_data",
          "data": {
            "image/png": "[encoded data removed]",
            "text/plain": [
              "<Figure size 720x720 with 1 Axes>"
            ]
          },
          "metadata": {
            "tags": [],
            "needs_background": "light"
          }
        }
      ]
    },
    {
      "cell_type": "markdown",
      "metadata": {
        "id": "2Ann4YG27emu"
      },
      "source": [
        "## Calculate the mean and standard deviation of train_ds"
      ]
    },
    {
      "cell_type": "code",
      "metadata": {
        "id": "wb7Tanrr18lD",
        "outputId": "6fc64eba-854b-415b-c892-dc4632e34cae",
        "colab": {
          "base_uri": "https://localhost:8080/",
          "height": 52
        }
      },
      "source": [
        "import numpy as np\n",
        "\n",
        "# RGB mean and std \n",
        "meanRGB=[np.mean(x.numpy(),axis=(1,2)) for x,_ in train_ds]\n",
        "stdRGB=[np.std(x.numpy(),axis=(1,2)) for x,_ in train_ds]\n",
        "\n",
        "meanR=np.mean([m[0] for m in meanRGB])\n",
        "meanG=np.mean([m[1] for m in meanRGB])\n",
        "meanB=np.mean([m[2] for m in meanRGB])\n",
        "\n",
        "stdR=np.mean([s[0] for s in stdRGB])\n",
        "stdG=np.mean([s[1] for s in stdRGB])\n",
        "stdB=np.mean([s[2] for s in stdRGB])\n",
        "\n",
        "print(meanR,meanG,meanB)\n",
        "print(stdR,stdG,stdB)"
      ],
      "execution_count": null,
      "outputs": [
        {
          "output_type": "stream",
          "text": [
            "0.49180245 0.4824589 0.44694117\n",
            "0.20215227 0.1992971 0.20079334\n"
          ],
          "name": "stdout"
        }
      ]
    },
    {
      "cell_type": "markdown",
      "metadata": {
        "id": "r65VUP8Y9IAg"
      },
      "source": [
        "## Data Transformation\n",
        "\n",
        "For test0_ds, we only added the normalization function since we do not require data augmentation for the validation and test datasets"
      ]
    },
    {
      "cell_type": "code",
      "metadata": {
        "id": "k0tn7nCh18lG"
      },
      "source": [
        "train_transformer = transforms.Compose([\n",
        "    transforms.RandomHorizontalFlip(p=0.5),  \n",
        "    transforms.RandomVerticalFlip(p=0.5),  \n",
        "    transforms.ToTensor(),\n",
        "    transforms.Normalize([meanR, meanG, meanB], [stdR, stdG, stdB])])\n",
        "                 \n",
        "\n",
        "test0_transformer = transforms.Compose([\n",
        "    transforms.ToTensor(),\n",
        "    transforms.Normalize([meanR, meanG, meanB], [stdR, stdG, stdB]),\n",
        "    ])   "
      ],
      "execution_count": null,
      "outputs": []
    },
    {
      "cell_type": "code",
      "metadata": {
        "id": "9y2LZxGs18lI"
      },
      "source": [
        "# overwrite the transform functions\n",
        "# Note that when we update train0_ds.transform function, both val_ds, \n",
        "# and train_ds will be updated since they are subsets of train0_ds.\n",
        "train0_ds.transform=train_transformer\n",
        "test_ds.transform=test0_transformer"
      ],
      "execution_count": null,
      "outputs": []
    },
    {
      "cell_type": "code",
      "metadata": {
        "id": "-4NY_cye18lK",
        "outputId": "481cbdd8-de8b-4976-9878-51711c9eaec4",
        "colab": {
          "base_uri": "https://localhost:8080/",
          "height": 262
        }
      },
      "source": [
        "import torch\n",
        "np.random.seed(0)\n",
        "torch.manual_seed(0)\n",
        "\n",
        "# make a grid\n",
        "grid_size=4\n",
        "rnd_inds=np.random.randint(0,len(train_ds),grid_size)\n",
        "print(\"image indices:\",rnd_inds)\n",
        "\n",
        "x_grid=[train_ds[i][0] for i in rnd_inds]\n",
        "y_grid=[train_ds[i][1] for i in rnd_inds]\n",
        "\n",
        "x_grid=utils.make_grid(x_grid, nrow=4, padding=2)\n",
        "print(x_grid.shape)\n",
        "\n",
        "# call helper function\n",
        "plt.figure(figsize=(10,10))\n",
        "show(x_grid,y_grid)\n"
      ],
      "execution_count": null,
      "outputs": [
        {
          "output_type": "stream",
          "text": [
            "Clipping input data to the valid range for imshow with RGB data ([0..1] for floats or [0..255] for integers).\n"
          ],
          "name": "stderr"
        },
        {
          "output_type": "stream",
          "text": [
            "image indices: [ 2732 21243 30403 32103]\n",
            "torch.Size([3, 36, 138])\n"
          ],
          "name": "stdout"
        },
        {
          "output_type": "display_data",
          "data": {
            "image/png": "[encoded data removed]",
            "text/plain": [
              "<Figure size 720x720 with 1 Axes>"
            ]
          },
          "metadata": {
            "tags": [],
            "needs_background": "light"
          }
        }
      ]
    },
    {
      "cell_type": "code",
      "metadata": {
        "id": "tuRz4J5S18lN"
      },
      "source": [
        "from torch.utils.data import DataLoader\n",
        "\n",
        "train_dl = DataLoader(train_ds, batch_size=32, shuffle=True)\n",
        "val_dl = DataLoader(val_ds, batch_size=64, shuffle=False)  "
      ],
      "execution_count": null,
      "outputs": []
    },
    {
      "cell_type": "code",
      "metadata": {
        "id": "EbA0bdBii5H_"
      },
      "source": [
        "test_dl = DataLoader(test_ds, batch_size=64, shuffle=False)"
      ],
      "execution_count": null,
      "outputs": []
    },
    {
      "cell_type": "code",
      "metadata": {
        "id": "1uZScEyI18lP",
        "outputId": "affa9736-ade0-44a2-b9e7-3373d431bdf2",
        "colab": {
          "base_uri": "https://localhost:8080/",
          "height": 52
        }
      },
      "source": [
        "# extract a batch from training data\n",
        "for x, y in train_dl:\n",
        "    print(x.shape)\n",
        "    print(y.shape)\n",
        "    break"
      ],
      "execution_count": null,
      "outputs": [
        {
          "output_type": "stream",
          "text": [
            "torch.Size([32, 3, 32, 32])\n",
            "torch.Size([32])\n"
          ],
          "name": "stdout"
        }
      ]
    },
    {
      "cell_type": "code",
      "metadata": {
        "id": "SdzqMcrO18lS",
        "outputId": "7eb5c33b-5e69-4b1f-b319-158c573b3199",
        "colab": {
          "base_uri": "https://localhost:8080/",
          "height": 52
        }
      },
      "source": [
        "# extract a batch from validation data\n",
        "for x, y in val_dl:\n",
        "    print(x.shape)\n",
        "    print(y.shape)\n",
        "    break"
      ],
      "execution_count": null,
      "outputs": [
        {
          "output_type": "stream",
          "text": [
            "torch.Size([64, 3, 32, 32])\n",
            "torch.Size([64])\n"
          ],
          "name": "stdout"
        }
      ]
    },
    {
      "cell_type": "markdown",
      "metadata": {
        "id": "HxYs5E7E18lZ"
      },
      "source": [
        "# Building Model"
      ]
    },
    {
      "cell_type": "code",
      "metadata": {
        "id": "jPZci2Uf18la"
      },
      "source": [
        "from torchvision import models\n",
        "import torch\n",
        "\n",
        "# load model with random weights\n",
        "model_vgg16 = models.vgg16(pretrained=True)"
      ],
      "execution_count": null,
      "outputs": []
    },
    {
      "cell_type": "code",
      "metadata": {
        "id": "lsm2UyQc18lc",
        "outputId": "b88b6020-7aa0-4133-8dfd-c47f37feebef",
        "colab": {
          "base_uri": "https://localhost:8080/",
          "height": 816
        }
      },
      "source": [
        "print(model_vgg16)"
      ],
      "execution_count": null,
      "outputs": [
        {
          "output_type": "stream",
          "text": [
            "VGG(\n",
            "  (features): Sequential(\n",
            "    (0): Conv2d(3, 64, kernel_size=(3, 3), stride=(1, 1), padding=(1, 1))\n",
            "    (1): ReLU(inplace=True)\n",
            "    (2): Conv2d(64, 64, kernel_size=(3, 3), stride=(1, 1), padding=(1, 1))\n",
            "    (3): ReLU(inplace=True)\n",
            "    (4): MaxPool2d(kernel_size=2, stride=2, padding=0, dilation=1, ceil_mode=False)\n",
            "    (5): Conv2d(64, 128, kernel_size=(3, 3), stride=(1, 1), padding=(1, 1))\n",
            "    (6): ReLU(inplace=True)\n",
            "    (7): Conv2d(128, 128, kernel_size=(3, 3), stride=(1, 1), padding=(1, 1))\n",
            "    (8): ReLU(inplace=True)\n",
            "    (9): MaxPool2d(kernel_size=2, stride=2, padding=0, dilation=1, ceil_mode=False)\n",
            "    (10): Conv2d(128, 256, kernel_size=(3, 3), stride=(1, 1), padding=(1, 1))\n",
            "    (11): ReLU(inplace=True)\n",
            "    (12): Conv2d(256, 256, kernel_size=(3, 3), stride=(1, 1), padding=(1, 1))\n",
            "    (13): ReLU(inplace=True)\n",
            "    (14): Conv2d(256, 256, kernel_size=(3, 3), stride=(1, 1), padding=(1, 1))\n",
            "    (15): ReLU(inplace=True)\n",
            "    (16): MaxPool2d(kernel_size=2, stride=2, padding=0, dilation=1, ceil_mode=False)\n",
            "    (17): Conv2d(256, 512, kernel_size=(3, 3), stride=(1, 1), padding=(1, 1))\n",
            "    (18): ReLU(inplace=True)\n",
            "    (19): Conv2d(512, 512, kernel_size=(3, 3), stride=(1, 1), padding=(1, 1))\n",
            "    (20): ReLU(inplace=True)\n",
            "    (21): Conv2d(512, 512, kernel_size=(3, 3), stride=(1, 1), padding=(1, 1))\n",
            "    (22): ReLU(inplace=True)\n",
            "    (23): MaxPool2d(kernel_size=2, stride=2, padding=0, dilation=1, ceil_mode=False)\n",
            "    (24): Conv2d(512, 512, kernel_size=(3, 3), stride=(1, 1), padding=(1, 1))\n",
            "    (25): ReLU(inplace=True)\n",
            "    (26): Conv2d(512, 512, kernel_size=(3, 3), stride=(1, 1), padding=(1, 1))\n",
            "    (27): ReLU(inplace=True)\n",
            "    (28): Conv2d(512, 512, kernel_size=(3, 3), stride=(1, 1), padding=(1, 1))\n",
            "    (29): ReLU(inplace=True)\n",
            "    (30): MaxPool2d(kernel_size=2, stride=2, padding=0, dilation=1, ceil_mode=False)\n",
            "  )\n",
            "  (avgpool): AdaptiveAvgPool2d(output_size=(7, 7))\n",
            "  (classifier): Sequential(\n",
            "    (0): Linear(in_features=25088, out_features=4096, bias=True)\n",
            "    (1): ReLU(inplace=True)\n",
            "    (2): Dropout(p=0.5, inplace=False)\n",
            "    (3): Linear(in_features=4096, out_features=4096, bias=True)\n",
            "    (4): ReLU(inplace=True)\n",
            "    (5): Dropout(p=0.5, inplace=False)\n",
            "    (6): Linear(in_features=4096, out_features=1000, bias=True)\n",
            "  )\n",
            ")\n"
          ],
          "name": "stdout"
        }
      ]
    },
    {
      "cell_type": "code",
      "metadata": {
        "id": "Evt7AHFyZD16",
        "outputId": "5b2bccc2-638d-45bf-a75a-e1855c96f09d",
        "colab": {
          "base_uri": "https://localhost:8080/",
          "height": 34
        }
      },
      "source": [
        "# upload model to GPU\n",
        "device = torch.device('cuda:0' if torch.cuda.is_available() else 'cpu')\n",
        "print(device)"
      ],
      "execution_count": null,
      "outputs": [
        {
          "output_type": "stream",
          "text": [
            "cuda:0\n"
          ],
          "name": "stdout"
        }
      ]
    },
    {
      "cell_type": "code",
      "metadata": {
        "id": "JsmjNQho18le",
        "outputId": "b29d4197-df81-44a7-df9d-4b9191eb8fa6",
        "colab": {
          "base_uri": "https://localhost:8080/",
          "height": 834
        }
      },
      "source": [
        "from torch import nn\n",
        "# change the output layer\n",
        "num_classes=10\n",
        "#num_ftrs = model_vgg16.Linear.in_features \n",
        "model_vgg16.fc = nn.Linear(1000, num_classes)\n",
        "\n",
        "#device = torch.device(\"cuda:0\")\n",
        "model_vgg16.to(device)"
      ],
      "execution_count": null,
      "outputs": [
        {
          "output_type": "execute_result",
          "data": {
            "text/plain": [
              "VGG(\n",
              "  (features): Sequential(\n",
              "    (0): Conv2d(3, 64, kernel_size=(3, 3), stride=(1, 1), padding=(1, 1))\n",
              "    (1): ReLU(inplace=True)\n",
              "    (2): Conv2d(64, 64, kernel_size=(3, 3), stride=(1, 1), padding=(1, 1))\n",
              "    (3): ReLU(inplace=True)\n",
              "    (4): MaxPool2d(kernel_size=2, stride=2, padding=0, dilation=1, ceil_mode=False)\n",
              "    (5): Conv2d(64, 128, kernel_size=(3, 3), stride=(1, 1), padding=(1, 1))\n",
              "    (6): ReLU(inplace=True)\n",
              "    (7): Conv2d(128, 128, kernel_size=(3, 3), stride=(1, 1), padding=(1, 1))\n",
              "    (8): ReLU(inplace=True)\n",
              "    (9): MaxPool2d(kernel_size=2, stride=2, padding=0, dilation=1, ceil_mode=False)\n",
              "    (10): Conv2d(128, 256, kernel_size=(3, 3), stride=(1, 1), padding=(1, 1))\n",
              "    (11): ReLU(inplace=True)\n",
              "    (12): Conv2d(256, 256, kernel_size=(3, 3), stride=(1, 1), padding=(1, 1))\n",
              "    (13): ReLU(inplace=True)\n",
              "    (14): Conv2d(256, 256, kernel_size=(3, 3), stride=(1, 1), padding=(1, 1))\n",
              "    (15): ReLU(inplace=True)\n",
              "    (16): MaxPool2d(kernel_size=2, stride=2, padding=0, dilation=1, ceil_mode=False)\n",
              "    (17): Conv2d(256, 512, kernel_size=(3, 3), stride=(1, 1), padding=(1, 1))\n",
              "    (18): ReLU(inplace=True)\n",
              "    (19): Conv2d(512, 512, kernel_size=(3, 3), stride=(1, 1), padding=(1, 1))\n",
              "    (20): ReLU(inplace=True)\n",
              "    (21): Conv2d(512, 512, kernel_size=(3, 3), stride=(1, 1), padding=(1, 1))\n",
              "    (22): ReLU(inplace=True)\n",
              "    (23): MaxPool2d(kernel_size=2, stride=2, padding=0, dilation=1, ceil_mode=False)\n",
              "    (24): Conv2d(512, 512, kernel_size=(3, 3), stride=(1, 1), padding=(1, 1))\n",
              "    (25): ReLU(inplace=True)\n",
              "    (26): Conv2d(512, 512, kernel_size=(3, 3), stride=(1, 1), padding=(1, 1))\n",
              "    (27): ReLU(inplace=True)\n",
              "    (28): Conv2d(512, 512, kernel_size=(3, 3), stride=(1, 1), padding=(1, 1))\n",
              "    (29): ReLU(inplace=True)\n",
              "    (30): MaxPool2d(kernel_size=2, stride=2, padding=0, dilation=1, ceil_mode=False)\n",
              "  )\n",
              "  (avgpool): AdaptiveAvgPool2d(output_size=(7, 7))\n",
              "  (classifier): Sequential(\n",
              "    (0): Linear(in_features=25088, out_features=4096, bias=True)\n",
              "    (1): ReLU(inplace=True)\n",
              "    (2): Dropout(p=0.5, inplace=False)\n",
              "    (3): Linear(in_features=4096, out_features=4096, bias=True)\n",
              "    (4): ReLU(inplace=True)\n",
              "    (5): Dropout(p=0.5, inplace=False)\n",
              "    (6): Linear(in_features=4096, out_features=1000, bias=True)\n",
              "  )\n",
              "  (fc): Linear(in_features=1000, out_features=10, bias=True)\n",
              ")"
            ]
          },
          "metadata": {
            "tags": []
          },
          "execution_count": 56
        }
      ]
    },
    {
      "cell_type": "code",
      "metadata": {
        "id": "TF7aPMJl18lh",
        "outputId": "9fa072b9-a498-4a69-ee5e-cce1f5015546",
        "colab": {
          "base_uri": "https://localhost:8080/",
          "height": 941
        }
      },
      "source": [
        "# Even though the original image sizes are 32*32, we need to resize them to 224*224, \n",
        "# the same size that the resnet18/vgg16 model was trained at.\n",
        "from torchsummary import summary\n",
        "summary(model_vgg16, input_size=(3, 224, 224))"
      ],
      "execution_count": null,
      "outputs": [
        {
          "output_type": "stream",
          "text": [
            "----------------------------------------------------------------\n",
            "        Layer (type)               Output Shape         Param #\n",
            "================================================================\n",
            "            Conv2d-1         [-1, 64, 224, 224]           1,792\n",
            "              ReLU-2         [-1, 64, 224, 224]               0\n",
            "            Conv2d-3         [-1, 64, 224, 224]          36,928\n",
            "              ReLU-4         [-1, 64, 224, 224]               0\n",
            "         MaxPool2d-5         [-1, 64, 112, 112]               0\n",
            "            Conv2d-6        [-1, 128, 112, 112]          73,856\n",
            "              ReLU-7        [-1, 128, 112, 112]               0\n",
            "            Conv2d-8        [-1, 128, 112, 112]         147,584\n",
            "              ReLU-9        [-1, 128, 112, 112]               0\n",
            "        MaxPool2d-10          [-1, 128, 56, 56]               0\n",
            "           Conv2d-11          [-1, 256, 56, 56]         295,168\n",
            "             ReLU-12          [-1, 256, 56, 56]               0\n",
            "           Conv2d-13          [-1, 256, 56, 56]         590,080\n",
            "             ReLU-14          [-1, 256, 56, 56]               0\n",
            "           Conv2d-15          [-1, 256, 56, 56]         590,080\n",
            "             ReLU-16          [-1, 256, 56, 56]               0\n",
            "        MaxPool2d-17          [-1, 256, 28, 28]               0\n",
            "           Conv2d-18          [-1, 512, 28, 28]       1,180,160\n",
            "             ReLU-19          [-1, 512, 28, 28]               0\n",
            "           Conv2d-20          [-1, 512, 28, 28]       2,359,808\n",
            "             ReLU-21          [-1, 512, 28, 28]               0\n",
            "           Conv2d-22          [-1, 512, 28, 28]       2,359,808\n",
            "             ReLU-23          [-1, 512, 28, 28]               0\n",
            "        MaxPool2d-24          [-1, 512, 14, 14]               0\n",
            "           Conv2d-25          [-1, 512, 14, 14]       2,359,808\n",
            "             ReLU-26          [-1, 512, 14, 14]               0\n",
            "           Conv2d-27          [-1, 512, 14, 14]       2,359,808\n",
            "             ReLU-28          [-1, 512, 14, 14]               0\n",
            "           Conv2d-29          [-1, 512, 14, 14]       2,359,808\n",
            "             ReLU-30          [-1, 512, 14, 14]               0\n",
            "        MaxPool2d-31            [-1, 512, 7, 7]               0\n",
            "AdaptiveAvgPool2d-32            [-1, 512, 7, 7]               0\n",
            "           Linear-33                 [-1, 4096]     102,764,544\n",
            "             ReLU-34                 [-1, 4096]               0\n",
            "          Dropout-35                 [-1, 4096]               0\n",
            "           Linear-36                 [-1, 4096]      16,781,312\n",
            "             ReLU-37                 [-1, 4096]               0\n",
            "          Dropout-38                 [-1, 4096]               0\n",
            "           Linear-39                 [-1, 1000]       4,097,000\n",
            "================================================================\n",
            "Total params: 138,357,544\n",
            "Trainable params: 138,357,544\n",
            "Non-trainable params: 0\n",
            "----------------------------------------------------------------\n",
            "Input size (MB): 0.57\n",
            "Forward/backward pass size (MB): 218.78\n",
            "Params size (MB): 527.79\n",
            "Estimated Total Size (MB): 747.15\n",
            "----------------------------------------------------------------\n"
          ],
          "name": "stdout"
        }
      ]
    },
    {
      "cell_type": "markdown",
      "metadata": {
        "id": "yP26nas4bilI"
      },
      "source": [
        "## Let's visualize the filters of the first CNN layer:"
      ]
    },
    {
      "cell_type": "code",
      "metadata": {
        "id": "QQV3vJeF18lk",
        "outputId": "04385923-6658-4929-95cd-ff1574c75739",
        "colab": {
          "base_uri": "https://localhost:8080/",
          "height": 34
        }
      },
      "source": [
        "# get Conv1 weights\n",
        "for w in model_vgg16.parameters():\n",
        "    w=w.data.cpu()\n",
        "    print(w.shape)\n",
        "    break\n"
      ],
      "execution_count": null,
      "outputs": [
        {
          "output_type": "stream",
          "text": [
            "torch.Size([64, 3, 3, 3])\n"
          ],
          "name": "stdout"
        }
      ]
    },
    {
      "cell_type": "code",
      "metadata": {
        "id": "kvpm4y2ob_yD",
        "outputId": "c857467f-96b1-4f33-b90f-6b6ff42e566e",
        "colab": {
          "base_uri": "https://localhost:8080/",
          "height": 34
        }
      },
      "source": [
        "# normalize to [0,1]\n",
        "min_w=torch.min(w)\n",
        "w1 = (-1/(2*min_w))*w + 0.5 \n",
        "print(torch.min(w1).item(),torch.max(w1).item())"
      ],
      "execution_count": null,
      "outputs": [
        {
          "output_type": "stream",
          "text": [
            "0.0 0.9217420220375061\n"
          ],
          "name": "stdout"
        }
      ]
    },
    {
      "cell_type": "code",
      "metadata": {
        "id": "8jK-m5kccDpr",
        "outputId": "a9021669-f786-4bdb-c573-a75734de72e8",
        "colab": {
          "base_uri": "https://localhost:8080/",
          "height": 337
        }
      },
      "source": [
        "# make a grid\n",
        "grid_size=len(w1)\n",
        "x_grid=[w1[i] for i in range(grid_size)]\n",
        "x_grid=utils.make_grid(x_grid, nrow=8, padding=1)\n",
        "print(x_grid.shape)\n",
        "\n",
        "# call helper function\n",
        "plt.figure(figsize=(5,5))\n",
        "show(x_grid)"
      ],
      "execution_count": null,
      "outputs": [
        {
          "output_type": "stream",
          "text": [
            "torch.Size([3, 33, 33])\n"
          ],
          "name": "stdout"
        },
        {
          "output_type": "display_data",
          "data": {
            "image/png": "[encoded data removed]",
            "text/plain": [
              "<Figure size 360x360 with 1 Axes>"
            ]
          },
          "metadata": {
            "tags": [],
            "needs_background": "light"
          }
        }
      ]
    },
    {
      "cell_type": "markdown",
      "metadata": {
        "id": "fg0RYcqi18lt"
      },
      "source": [
        "# Define Loss Function"
      ]
    },
    {
      "cell_type": "code",
      "metadata": {
        "id": "IVxha62J18lu"
      },
      "source": [
        "loss_func = nn.CrossEntropyLoss(reduction=\"sum\",)"
      ],
      "execution_count": null,
      "outputs": []
    },
    {
      "cell_type": "markdown",
      "metadata": {
        "id": "AcCMcxlf18l2"
      },
      "source": [
        "# Defining Optimizer"
      ]
    },
    {
      "cell_type": "code",
      "metadata": {
        "id": "e9q05_Oq18l3"
      },
      "source": [
        "from torch import optim\n",
        "opt = optim.Adam(model_vgg16.parameters(), lr=1e-4)"
      ],
      "execution_count": null,
      "outputs": []
    },
    {
      "cell_type": "code",
      "metadata": {
        "id": "tScGi0rt18l5",
        "outputId": "0a0ff1d2-0a8f-48b2-dad0-3933fe8a69f8",
        "colab": {
          "base_uri": "https://localhost:8080/",
          "height": 34
        }
      },
      "source": [
        "# get learning rate \n",
        "def get_lr(opt):\n",
        "    for param_group in opt.param_groups:\n",
        "        return param_group['lr']\n",
        "\n",
        "current_lr=get_lr(opt)\n",
        "print('current lr={}'.format(current_lr))"
      ],
      "execution_count": null,
      "outputs": [
        {
          "output_type": "stream",
          "text": [
            "current lr=0.0001\n"
          ],
          "name": "stdout"
        }
      ]
    },
    {
      "cell_type": "code",
      "metadata": {
        "id": "tfdSNF4t18l7"
      },
      "source": [
        "from torch.optim.lr_scheduler import CosineAnnealingLR\n",
        "\n",
        "# define learning rate scheduler\n",
        "\n",
        "lr_scheduler = CosineAnnealingLR(opt,T_max=2,eta_min=1e-5)"
      ],
      "execution_count": null,
      "outputs": []
    },
    {
      "cell_type": "code",
      "metadata": {
        "id": "8WyT3l8p18l-",
        "outputId": "0bf47f82-0486-4ffc-82ec-a430c6467ad7",
        "colab": {
          "base_uri": "https://localhost:8080/",
          "height": 250
        }
      },
      "source": [
        "lrs=[]\n",
        "for i in range(10):\n",
        "    lr_scheduler.step()\n",
        "    lr=get_lr(opt)\n",
        "    print(\"epoch %s, lr: %.1e\" %(i,lr))\n",
        "    lrs.append(lr)"
      ],
      "execution_count": null,
      "outputs": [
        {
          "output_type": "stream",
          "text": [
            "epoch 0, lr: 5.5e-05\n",
            "epoch 1, lr: 1.0e-05\n",
            "epoch 2, lr: 5.5e-05\n",
            "epoch 3, lr: 1.0e-04\n",
            "epoch 4, lr: 5.5e-05\n",
            "epoch 5, lr: 1.0e-05\n",
            "epoch 6, lr: 5.5e-05\n",
            "epoch 7, lr: 1.0e-04\n",
            "epoch 8, lr: 5.5e-05\n",
            "epoch 9, lr: 1.0e-05\n"
          ],
          "name": "stdout"
        },
        {
          "output_type": "stream",
          "text": [
            "/usr/local/lib/python3.6/dist-packages/torch/optim/lr_scheduler.py:123: UserWarning: Detected call of `lr_scheduler.step()` before `optimizer.step()`. In PyTorch 1.1.0 and later, you should call them in the opposite order: `optimizer.step()` before `lr_scheduler.step()`.  Failure to do this will result in PyTorch skipping the first value of the learning rate schedule. See more details at https://pytorch.org/docs/stable/optim.html#how-to-adjust-learning-rate\n",
            "  \"https://pytorch.org/docs/stable/optim.html#how-to-adjust-learning-rate\", UserWarning)\n"
          ],
          "name": "stderr"
        }
      ]
    },
    {
      "cell_type": "code",
      "metadata": {
        "id": "RUwIY2-k18mB",
        "outputId": "224481f4-c643-450c-ca46-f896fc284196",
        "colab": {
          "base_uri": "https://localhost:8080/",
          "height": 282
        }
      },
      "source": [
        "plt.plot(lrs)"
      ],
      "execution_count": null,
      "outputs": [
        {
          "output_type": "execute_result",
          "data": {
            "text/plain": [
              "[<matplotlib.lines.Line2D at 0x7f5d382e5fd0>]"
            ]
          },
          "metadata": {
            "tags": []
          },
          "execution_count": 66
        },
        {
          "output_type": "display_data",
          "data": {
            "image/png": "[encoded data removed]",
            "text/plain": [
              "<Figure size 432x288 with 1 Axes>"
            ]
          },
          "metadata": {
            "tags": [],
            "needs_background": "light"
          }
        }
      ]
    },
    {
      "cell_type": "markdown",
      "metadata": {
        "id": "fjnbgG7I18mF"
      },
      "source": [
        "# Training and Transfer Learning"
      ]
    },
    {
      "cell_type": "code",
      "metadata": {
        "id": "9KRxJmHY18mF"
      },
      "source": [
        "# A helper function to count the number of correct predictions per data batch:\n",
        "def metrics_batch(output, target):\n",
        "    # get output class\n",
        "    pred = output.argmax(dim=1, keepdim=True)\n",
        "    \n",
        "    # compare output class with target class\n",
        "    corrects=pred.eq(target.view_as(pred)).sum().item()\n",
        "    return corrects"
      ],
      "execution_count": null,
      "outputs": []
    },
    {
      "cell_type": "code",
      "metadata": {
        "id": "AsSibvS418mI"
      },
      "source": [
        "# A helper function to compute the loss value per batch of data:\n",
        "def loss_batch(loss_func, output, target, opt=None):\n",
        "    \n",
        "    # get loss \n",
        "    loss = loss_func(output, target)\n",
        "    \n",
        "    # get performance metric\n",
        "    metric_b = metrics_batch(output,target)\n",
        "    \n",
        "    if opt is not None:\n",
        "        opt.zero_grad()\n",
        "        loss.backward()\n",
        "        opt.step()\n",
        "\n",
        "    return loss.item(), metric_b"
      ],
      "execution_count": null,
      "outputs": []
    },
    {
      "cell_type": "code",
      "metadata": {
        "id": "j8eusMj518mK"
      },
      "source": [
        "# a helper function to compute the loss value and the performance metric for the entire dataset or an epoch.\n",
        "\n",
        "# define device as a global variable\n",
        "#device = torch.device(\"cuda\")\n",
        "\n",
        "def loss_epoch(model,loss_func,dataset_dl,sanity_check=False,opt=None):\n",
        "    running_loss=0.0\n",
        "    running_metric=0.0\n",
        "    len_data=len(dataset_dl.dataset)\n",
        "\n",
        "    for xb, yb in dataset_dl:\n",
        "        # move batch to device\n",
        "        xb=xb.to(device)\n",
        "        yb=yb.to(device)\n",
        "        \n",
        "        # get model output\n",
        "        output=model(xb)\n",
        "        \n",
        "        # get loss per batch\n",
        "        loss_b,metric_b=loss_batch(loss_func, output, yb, opt)\n",
        "        \n",
        "        # update running loss\n",
        "        running_loss+=loss_b\n",
        "        \n",
        "        # update running metric\n",
        "        if metric_b is not None:\n",
        "            running_metric+=metric_b\n",
        "\n",
        "        # break the loop in case of sanity check\n",
        "        if sanity_check is True:\n",
        "            break\n",
        "    \n",
        "    # average loss value\n",
        "    loss=running_loss/float(len_data)\n",
        "    \n",
        "    # average metric value\n",
        "    metric=running_metric/float(len_data)\n",
        "    \n",
        "    return loss, metric"
      ],
      "execution_count": null,
      "outputs": []
    },
    {
      "cell_type": "code",
      "metadata": {
        "id": "8wtt7kvv18mN"
      },
      "source": [
        "def train_val(model, params):\n",
        "    # extract model parameters\n",
        "    num_epochs=params[\"num_epochs\"]\n",
        "    loss_func=params[\"loss_func\"]\n",
        "    opt=params[\"optimizer\"]\n",
        "    train_dl=params[\"train_dl\"]\n",
        "    val_dl=params[\"val_dl\"]\n",
        "    sanity_check=params[\"sanity_check\"]\n",
        "    lr_scheduler=params[\"lr_scheduler\"]\n",
        "    path2weights=params[\"path2weights\"]\n",
        "    \n",
        "    # history of loss values in each epoch\n",
        "    loss_history={\n",
        "        \"train\": [],\n",
        "        \"val\": [],\n",
        "    }\n",
        "    \n",
        "    # histroy of metric values in each epoch\n",
        "    metric_history={\n",
        "        \"train\": [],\n",
        "        \"val\": [],\n",
        "    }\n",
        "    \n",
        "    # a deep copy of weights for the best performing model\n",
        "    best_model_wts = copy.deepcopy(model.state_dict())\n",
        "    \n",
        "    # initialize best loss to a large value\n",
        "    best_loss=float('inf')\n",
        "    \n",
        "    # main loop\n",
        "    for epoch in range(num_epochs):\n",
        "        \n",
        "        # get current learning rate\n",
        "        current_lr=get_lr(opt)\n",
        "        print('Epoch {}/{}, current lr={}'.format(epoch, num_epochs - 1, current_lr))\n",
        "        \n",
        "        # train model on training dataset\n",
        "        model.train()\n",
        "        train_loss, train_metric=loss_epoch(model,loss_func,train_dl,sanity_check,opt)\n",
        "\n",
        "        # collect loss and metric for training dataset\n",
        "        loss_history[\"train\"].append(train_loss)\n",
        "        metric_history[\"train\"].append(train_metric)\n",
        "        \n",
        "        # evaluate model on validation dataset    \n",
        "        model.eval()\n",
        "        with torch.no_grad():\n",
        "            val_loss, val_metric=loss_epoch(model,loss_func,val_dl,sanity_check)\n",
        "        \n",
        "       \n",
        "        # store best model\n",
        "        if val_loss < best_loss:\n",
        "            best_loss = val_loss\n",
        "            best_model_wts = copy.deepcopy(model.state_dict())\n",
        "            \n",
        "            # store weights into a local file\n",
        "            torch.save(model.state_dict(), path2weights)\n",
        "            print(\"Copied best model weights!\")\n",
        "        \n",
        "        # collect loss and metric for validation dataset\n",
        "        loss_history[\"val\"].append(val_loss)\n",
        "        metric_history[\"val\"].append(val_metric)\n",
        "        \n",
        "        # learning rate schedule\n",
        "        lr_scheduler.step()\n",
        "\n",
        "        print(\"train loss: %.6f, dev loss: %.6f, accuracy: %.2f\" %(train_loss,val_loss,100*val_metric))\n",
        "        print(\"-\"*10) \n",
        "\n",
        "    # load best model weights\n",
        "    model.load_state_dict(best_model_wts)\n",
        "        \n",
        "    return model, loss_history, metric_history"
      ],
      "execution_count": null,
      "outputs": []
    },
    {
      "cell_type": "markdown",
      "metadata": {
        "id": "Zz9jz_UW18mP"
      },
      "source": [
        "# Task 1"
      ]
    },
    {
      "cell_type": "markdown",
      "metadata": {
        "id": "jQXbXYS86XmA"
      },
      "source": [
        "## Freeze classification layer"
      ]
    },
    {
      "cell_type": "code",
      "metadata": {
        "id": "jCf2wJvm6W1b",
        "outputId": "b9b78a69-1831-4d17-82a3-daaa18909657",
        "colab": {
          "base_uri": "https://localhost:8080/",
          "height": 870
        }
      },
      "source": [
        "#reference: https://spandan-madan.github.io/A-Collection-of-important-tasks-in-pytorch/\n",
        "model_vgg16_1 = model_vgg16\n",
        "\n",
        "child_counter = 0\n",
        "for child in model_vgg16_1.children():\n",
        "    print(\" child\", child_counter, \"is -\")\n",
        "    print(child)\n",
        "    child_counter += 1"
      ],
      "execution_count": null,
      "outputs": [
        {
          "output_type": "stream",
          "text": [
            " child 0 is -\n",
            "Sequential(\n",
            "  (0): Conv2d(3, 64, kernel_size=(3, 3), stride=(1, 1), padding=(1, 1))\n",
            "  (1): ReLU(inplace=True)\n",
            "  (2): Conv2d(64, 64, kernel_size=(3, 3), stride=(1, 1), padding=(1, 1))\n",
            "  (3): ReLU(inplace=True)\n",
            "  (4): MaxPool2d(kernel_size=2, stride=2, padding=0, dilation=1, ceil_mode=False)\n",
            "  (5): Conv2d(64, 128, kernel_size=(3, 3), stride=(1, 1), padding=(1, 1))\n",
            "  (6): ReLU(inplace=True)\n",
            "  (7): Conv2d(128, 128, kernel_size=(3, 3), stride=(1, 1), padding=(1, 1))\n",
            "  (8): ReLU(inplace=True)\n",
            "  (9): MaxPool2d(kernel_size=2, stride=2, padding=0, dilation=1, ceil_mode=False)\n",
            "  (10): Conv2d(128, 256, kernel_size=(3, 3), stride=(1, 1), padding=(1, 1))\n",
            "  (11): ReLU(inplace=True)\n",
            "  (12): Conv2d(256, 256, kernel_size=(3, 3), stride=(1, 1), padding=(1, 1))\n",
            "  (13): ReLU(inplace=True)\n",
            "  (14): Conv2d(256, 256, kernel_size=(3, 3), stride=(1, 1), padding=(1, 1))\n",
            "  (15): ReLU(inplace=True)\n",
            "  (16): MaxPool2d(kernel_size=2, stride=2, padding=0, dilation=1, ceil_mode=False)\n",
            "  (17): Conv2d(256, 512, kernel_size=(3, 3), stride=(1, 1), padding=(1, 1))\n",
            "  (18): ReLU(inplace=True)\n",
            "  (19): Conv2d(512, 512, kernel_size=(3, 3), stride=(1, 1), padding=(1, 1))\n",
            "  (20): ReLU(inplace=True)\n",
            "  (21): Conv2d(512, 512, kernel_size=(3, 3), stride=(1, 1), padding=(1, 1))\n",
            "  (22): ReLU(inplace=True)\n",
            "  (23): MaxPool2d(kernel_size=2, stride=2, padding=0, dilation=1, ceil_mode=False)\n",
            "  (24): Conv2d(512, 512, kernel_size=(3, 3), stride=(1, 1), padding=(1, 1))\n",
            "  (25): ReLU(inplace=True)\n",
            "  (26): Conv2d(512, 512, kernel_size=(3, 3), stride=(1, 1), padding=(1, 1))\n",
            "  (27): ReLU(inplace=True)\n",
            "  (28): Conv2d(512, 512, kernel_size=(3, 3), stride=(1, 1), padding=(1, 1))\n",
            "  (29): ReLU(inplace=True)\n",
            "  (30): MaxPool2d(kernel_size=2, stride=2, padding=0, dilation=1, ceil_mode=False)\n",
            ")\n",
            " child 1 is -\n",
            "AdaptiveAvgPool2d(output_size=(7, 7))\n",
            " child 2 is -\n",
            "Sequential(\n",
            "  (0): Linear(in_features=25088, out_features=4096, bias=True)\n",
            "  (1): ReLU(inplace=True)\n",
            "  (2): Dropout(p=0.5, inplace=False)\n",
            "  (3): Linear(in_features=4096, out_features=4096, bias=True)\n",
            "  (4): ReLU(inplace=True)\n",
            "  (5): Dropout(p=0.5, inplace=False)\n",
            "  (6): Linear(in_features=4096, out_features=1000, bias=True)\n",
            ")\n",
            " child 3 is -\n",
            "Linear(in_features=1000, out_features=10, bias=True)\n"
          ],
          "name": "stdout"
        }
      ]
    },
    {
      "cell_type": "code",
      "metadata": {
        "id": "u9ro6B3nZvDJ",
        "outputId": "32229532-8b1a-45ee-b456-d59835df1d35",
        "colab": {
          "base_uri": "https://localhost:8080/",
          "height": 834
        }
      },
      "source": [
        "from torch import nn\n",
        "# change the output layer\n",
        "num_classes=10\n",
        "num_ftrs = model_vgg16_1.fc.in_features \n",
        "model_vgg16_1.fc = nn.Linear(num_ftrs, num_classes)\n",
        "\n",
        "#device = torch.device(\"cuda:0\")\n",
        "model_vgg16_1.to(device)"
      ],
      "execution_count": null,
      "outputs": [
        {
          "output_type": "execute_result",
          "data": {
            "text/plain": [
              "VGG(\n",
              "  (features): Sequential(\n",
              "    (0): Conv2d(3, 64, kernel_size=(3, 3), stride=(1, 1), padding=(1, 1))\n",
              "    (1): ReLU(inplace=True)\n",
              "    (2): Conv2d(64, 64, kernel_size=(3, 3), stride=(1, 1), padding=(1, 1))\n",
              "    (3): ReLU(inplace=True)\n",
              "    (4): MaxPool2d(kernel_size=2, stride=2, padding=0, dilation=1, ceil_mode=False)\n",
              "    (5): Conv2d(64, 128, kernel_size=(3, 3), stride=(1, 1), padding=(1, 1))\n",
              "    (6): ReLU(inplace=True)\n",
              "    (7): Conv2d(128, 128, kernel_size=(3, 3), stride=(1, 1), padding=(1, 1))\n",
              "    (8): ReLU(inplace=True)\n",
              "    (9): MaxPool2d(kernel_size=2, stride=2, padding=0, dilation=1, ceil_mode=False)\n",
              "    (10): Conv2d(128, 256, kernel_size=(3, 3), stride=(1, 1), padding=(1, 1))\n",
              "    (11): ReLU(inplace=True)\n",
              "    (12): Conv2d(256, 256, kernel_size=(3, 3), stride=(1, 1), padding=(1, 1))\n",
              "    (13): ReLU(inplace=True)\n",
              "    (14): Conv2d(256, 256, kernel_size=(3, 3), stride=(1, 1), padding=(1, 1))\n",
              "    (15): ReLU(inplace=True)\n",
              "    (16): MaxPool2d(kernel_size=2, stride=2, padding=0, dilation=1, ceil_mode=False)\n",
              "    (17): Conv2d(256, 512, kernel_size=(3, 3), stride=(1, 1), padding=(1, 1))\n",
              "    (18): ReLU(inplace=True)\n",
              "    (19): Conv2d(512, 512, kernel_size=(3, 3), stride=(1, 1), padding=(1, 1))\n",
              "    (20): ReLU(inplace=True)\n",
              "    (21): Conv2d(512, 512, kernel_size=(3, 3), stride=(1, 1), padding=(1, 1))\n",
              "    (22): ReLU(inplace=True)\n",
              "    (23): MaxPool2d(kernel_size=2, stride=2, padding=0, dilation=1, ceil_mode=False)\n",
              "    (24): Conv2d(512, 512, kernel_size=(3, 3), stride=(1, 1), padding=(1, 1))\n",
              "    (25): ReLU(inplace=True)\n",
              "    (26): Conv2d(512, 512, kernel_size=(3, 3), stride=(1, 1), padding=(1, 1))\n",
              "    (27): ReLU(inplace=True)\n",
              "    (28): Conv2d(512, 512, kernel_size=(3, 3), stride=(1, 1), padding=(1, 1))\n",
              "    (29): ReLU(inplace=True)\n",
              "    (30): MaxPool2d(kernel_size=2, stride=2, padding=0, dilation=1, ceil_mode=False)\n",
              "  )\n",
              "  (avgpool): AdaptiveAvgPool2d(output_size=(7, 7))\n",
              "  (classifier): Sequential(\n",
              "    (0): Linear(in_features=25088, out_features=4096, bias=True)\n",
              "    (1): ReLU(inplace=True)\n",
              "    (2): Dropout(p=0.5, inplace=False)\n",
              "    (3): Linear(in_features=4096, out_features=4096, bias=True)\n",
              "    (4): ReLU(inplace=True)\n",
              "    (5): Dropout(p=0.5, inplace=False)\n",
              "    (6): Linear(in_features=4096, out_features=1000, bias=True)\n",
              "  )\n",
              "  (fc): Linear(in_features=1000, out_features=10, bias=True)\n",
              ")"
            ]
          },
          "metadata": {
            "tags": []
          },
          "execution_count": 117
        }
      ]
    },
    {
      "cell_type": "code",
      "metadata": {
        "id": "e6OMi8wJZ9xW",
        "outputId": "3f37cd37-1f6b-447b-b08e-fdb55ae744e5",
        "colab": {
          "base_uri": "https://localhost:8080/",
          "height": 941
        }
      },
      "source": [
        "from torchsummary import summary\n",
        "summary(model_vgg16_1, input_size=(3, 224, 224))"
      ],
      "execution_count": null,
      "outputs": [
        {
          "output_type": "stream",
          "text": [
            "----------------------------------------------------------------\n",
            "        Layer (type)               Output Shape         Param #\n",
            "================================================================\n",
            "            Conv2d-1         [-1, 64, 224, 224]           1,792\n",
            "              ReLU-2         [-1, 64, 224, 224]               0\n",
            "            Conv2d-3         [-1, 64, 224, 224]          36,928\n",
            "              ReLU-4         [-1, 64, 224, 224]               0\n",
            "         MaxPool2d-5         [-1, 64, 112, 112]               0\n",
            "            Conv2d-6        [-1, 128, 112, 112]          73,856\n",
            "              ReLU-7        [-1, 128, 112, 112]               0\n",
            "            Conv2d-8        [-1, 128, 112, 112]         147,584\n",
            "              ReLU-9        [-1, 128, 112, 112]               0\n",
            "        MaxPool2d-10          [-1, 128, 56, 56]               0\n",
            "           Conv2d-11          [-1, 256, 56, 56]         295,168\n",
            "             ReLU-12          [-1, 256, 56, 56]               0\n",
            "           Conv2d-13          [-1, 256, 56, 56]         590,080\n",
            "             ReLU-14          [-1, 256, 56, 56]               0\n",
            "           Conv2d-15          [-1, 256, 56, 56]         590,080\n",
            "             ReLU-16          [-1, 256, 56, 56]               0\n",
            "        MaxPool2d-17          [-1, 256, 28, 28]               0\n",
            "           Conv2d-18          [-1, 512, 28, 28]       1,180,160\n",
            "             ReLU-19          [-1, 512, 28, 28]               0\n",
            "           Conv2d-20          [-1, 512, 28, 28]       2,359,808\n",
            "             ReLU-21          [-1, 512, 28, 28]               0\n",
            "           Conv2d-22          [-1, 512, 28, 28]       2,359,808\n",
            "             ReLU-23          [-1, 512, 28, 28]               0\n",
            "        MaxPool2d-24          [-1, 512, 14, 14]               0\n",
            "           Conv2d-25          [-1, 512, 14, 14]       2,359,808\n",
            "             ReLU-26          [-1, 512, 14, 14]               0\n",
            "           Conv2d-27          [-1, 512, 14, 14]       2,359,808\n",
            "             ReLU-28          [-1, 512, 14, 14]               0\n",
            "           Conv2d-29          [-1, 512, 14, 14]       2,359,808\n",
            "             ReLU-30          [-1, 512, 14, 14]               0\n",
            "        MaxPool2d-31            [-1, 512, 7, 7]               0\n",
            "AdaptiveAvgPool2d-32            [-1, 512, 7, 7]               0\n",
            "           Linear-33                 [-1, 4096]     102,764,544\n",
            "             ReLU-34                 [-1, 4096]               0\n",
            "          Dropout-35                 [-1, 4096]               0\n",
            "           Linear-36                 [-1, 4096]      16,781,312\n",
            "             ReLU-37                 [-1, 4096]               0\n",
            "          Dropout-38                 [-1, 4096]               0\n",
            "           Linear-39                 [-1, 1000]       4,097,000\n",
            "================================================================\n",
            "Total params: 138,357,544\n",
            "Trainable params: 136,622,056\n",
            "Non-trainable params: 1,735,488\n",
            "----------------------------------------------------------------\n",
            "Input size (MB): 0.57\n",
            "Forward/backward pass size (MB): 218.78\n",
            "Params size (MB): 527.79\n",
            "Estimated Total Size (MB): 747.15\n",
            "----------------------------------------------------------------\n"
          ],
          "name": "stdout"
        }
      ]
    },
    {
      "cell_type": "code",
      "metadata": {
        "id": "499HDQtHxmjc"
      },
      "source": [
        "count = 0\n",
        "for child in model_vgg16_1.children():\n",
        "  count+=1\n",
        "  if count < 2:\n",
        "    for param in child.parameters():\n",
        "        param.requires_grad = False"
      ],
      "execution_count": null,
      "outputs": []
    },
    {
      "cell_type": "code",
      "metadata": {
        "id": "qQPhz5vg18mQ",
        "outputId": "733194a1-059b-42d8-acd6-dbbc7638abf0",
        "colab": {
          "base_uri": "https://localhost:8080/",
          "height": 372
        }
      },
      "source": [
        "import copy\n",
        "\n",
        "\n",
        "loss_func = nn.CrossEntropyLoss(reduction=\"sum\")\n",
        "opt = optim.Adam(model_vgg16_1.parameters(), lr=1e-3)\n",
        "lr_scheduler = CosineAnnealingLR(opt,T_max=5,eta_min=1e-6)\n",
        "\n",
        "params_train={\n",
        " \"num_epochs\": 5,\n",
        " \"optimizer\": opt,\n",
        " \"loss_func\": loss_func,\n",
        " \"train_dl\": train_dl,\n",
        " \"val_dl\": val_dl,\n",
        " \"sanity_check\": False,\n",
        " \"lr_scheduler\": lr_scheduler,\n",
        " \"path2weights\": folder / \"model_vgg16.pt\",\n",
        "}\n",
        "\n",
        "# train and validate the model\n",
        "model_vgg16_1,loss_hist,metric_hist=train_val(model_vgg16_1,params_train)"
      ],
      "execution_count": null,
      "outputs": [
        {
          "output_type": "stream",
          "text": [
            "Epoch 0/4, current lr=0.001\n",
            "Copied best model weights!\n",
            "train loss: 0.910704, dev loss: 1.114802, accuracy: 75.72\n",
            "----------\n",
            "Epoch 1/4, current lr=0.0009046039886902864\n",
            "Copied best model weights!\n",
            "train loss: 0.831934, dev loss: 0.967806, accuracy: 76.12\n",
            "----------\n",
            "Epoch 2/4, current lr=0.0006548539886902863\n",
            "Copied best model weights!\n",
            "train loss: 0.705468, dev loss: 0.883931, accuracy: 76.59\n",
            "----------\n",
            "Epoch 3/4, current lr=0.0003461460113097138\n",
            "Copied best model weights!\n",
            "train loss: 0.609842, dev loss: 0.880783, accuracy: 76.19\n",
            "----------\n",
            "Epoch 4/4, current lr=9.639601130971379e-05\n",
            "Copied best model weights!\n",
            "train loss: 0.561604, dev loss: 0.818587, accuracy: 76.83\n",
            "----------\n"
          ],
          "name": "stdout"
        }
      ]
    },
    {
      "cell_type": "code",
      "metadata": {
        "id": "S9u1jXz_18mS",
        "outputId": "dca185c1-6b22-48a6-8173-4e2f7b88dc0e",
        "colab": {
          "base_uri": "https://localhost:8080/",
          "height": 573
        }
      },
      "source": [
        "# Train-Validation Progress\n",
        "num_epochs=params_train[\"num_epochs\"]\n",
        "\n",
        "# plot loss progress\n",
        "plt.title(\"Train-Val Loss\")\n",
        "plt.plot(range(1,num_epochs+1),loss_hist[\"train\"],label=\"train\")\n",
        "plt.plot(range(1,num_epochs+1),loss_hist[\"val\"],label=\"val\")\n",
        "plt.ylabel(\"Loss\")\n",
        "plt.xlabel(\"Training Epochs\")\n",
        "plt.legend()\n",
        "plt.show()\n",
        "\n",
        "# plot accuracy progress\n",
        "plt.title(\"Train-Val Accuracy\")\n",
        "plt.plot(range(1,num_epochs+1),metric_hist[\"train\"],label=\"train\")\n",
        "plt.plot(range(1,num_epochs+1),metric_hist[\"val\"],label=\"val\")\n",
        "plt.ylabel(\"Accuracy\")\n",
        "plt.xlabel(\"Training Epochs\")\n",
        "plt.legend()\n",
        "plt.show()"
      ],
      "execution_count": null,
      "outputs": [
        {
          "output_type": "display_data",
          "data": {
            "image/png": "[encoded data removed]",
            "text/plain": [
              "<Figure size 432x288 with 1 Axes>"
            ]
          },
          "metadata": {
            "tags": [],
            "needs_background": "light"
          }
        },
        {
          "output_type": "display_data",
          "data": {
            "image/png": "[encoded data removed]",
            "text/plain": [
              "<Figure size 432x288 with 1 Axes>"
            ]
          },
          "metadata": {
            "tags": [],
            "needs_background": "light"
          }
        }
      ]
    },
    {
      "cell_type": "markdown",
      "metadata": {
        "id": "3l1QWJ-KoRWt"
      },
      "source": [
        "# Task 2"
      ]
    },
    {
      "cell_type": "markdown",
      "metadata": {
        "id": "Rz7fKpxt8sWW"
      },
      "source": [
        "## Unfreeze last CNN block"
      ]
    },
    {
      "cell_type": "code",
      "metadata": {
        "id": "LmAxMel2ooPz",
        "outputId": "d822f7bf-bd12-4b58-fcf2-a0455ae6e4e0",
        "colab": {
          "base_uri": "https://localhost:8080/",
          "height": 870
        }
      },
      "source": [
        "#reference: https://spandan-madan.github.io/A-Collection-of-important-tasks-in-pytorch/\n",
        "\n",
        "model_vgg16_2  = model_vgg16\n",
        "\n",
        "child_counter = 0\n",
        "for child in model_vgg16_2.children():\n",
        "    print(\" child\", child_counter, \"is -\")\n",
        "    print(child)\n",
        "    child_counter += 1"
      ],
      "execution_count": null,
      "outputs": [
        {
          "output_type": "stream",
          "text": [
            " child 0 is -\n",
            "Sequential(\n",
            "  (0): Conv2d(3, 64, kernel_size=(3, 3), stride=(1, 1), padding=(1, 1))\n",
            "  (1): ReLU(inplace=True)\n",
            "  (2): Conv2d(64, 64, kernel_size=(3, 3), stride=(1, 1), padding=(1, 1))\n",
            "  (3): ReLU(inplace=True)\n",
            "  (4): MaxPool2d(kernel_size=2, stride=2, padding=0, dilation=1, ceil_mode=False)\n",
            "  (5): Conv2d(64, 128, kernel_size=(3, 3), stride=(1, 1), padding=(1, 1))\n",
            "  (6): ReLU(inplace=True)\n",
            "  (7): Conv2d(128, 128, kernel_size=(3, 3), stride=(1, 1), padding=(1, 1))\n",
            "  (8): ReLU(inplace=True)\n",
            "  (9): MaxPool2d(kernel_size=2, stride=2, padding=0, dilation=1, ceil_mode=False)\n",
            "  (10): Conv2d(128, 256, kernel_size=(3, 3), stride=(1, 1), padding=(1, 1))\n",
            "  (11): ReLU(inplace=True)\n",
            "  (12): Conv2d(256, 256, kernel_size=(3, 3), stride=(1, 1), padding=(1, 1))\n",
            "  (13): ReLU(inplace=True)\n",
            "  (14): Conv2d(256, 256, kernel_size=(3, 3), stride=(1, 1), padding=(1, 1))\n",
            "  (15): ReLU(inplace=True)\n",
            "  (16): MaxPool2d(kernel_size=2, stride=2, padding=0, dilation=1, ceil_mode=False)\n",
            "  (17): Conv2d(256, 512, kernel_size=(3, 3), stride=(1, 1), padding=(1, 1))\n",
            "  (18): ReLU(inplace=True)\n",
            "  (19): Conv2d(512, 512, kernel_size=(3, 3), stride=(1, 1), padding=(1, 1))\n",
            "  (20): ReLU(inplace=True)\n",
            "  (21): Conv2d(512, 512, kernel_size=(3, 3), stride=(1, 1), padding=(1, 1))\n",
            "  (22): ReLU(inplace=True)\n",
            "  (23): MaxPool2d(kernel_size=2, stride=2, padding=0, dilation=1, ceil_mode=False)\n",
            "  (24): Conv2d(512, 512, kernel_size=(3, 3), stride=(1, 1), padding=(1, 1))\n",
            "  (25): ReLU(inplace=True)\n",
            "  (26): Conv2d(512, 512, kernel_size=(3, 3), stride=(1, 1), padding=(1, 1))\n",
            "  (27): ReLU(inplace=True)\n",
            "  (28): Conv2d(512, 512, kernel_size=(3, 3), stride=(1, 1), padding=(1, 1))\n",
            "  (29): ReLU(inplace=True)\n",
            "  (30): MaxPool2d(kernel_size=2, stride=2, padding=0, dilation=1, ceil_mode=False)\n",
            ")\n",
            " child 1 is -\n",
            "AdaptiveAvgPool2d(output_size=(7, 7))\n",
            " child 2 is -\n",
            "Sequential(\n",
            "  (0): Linear(in_features=25088, out_features=4096, bias=True)\n",
            "  (1): ReLU(inplace=True)\n",
            "  (2): Dropout(p=0.5, inplace=False)\n",
            "  (3): Linear(in_features=4096, out_features=4096, bias=True)\n",
            "  (4): ReLU(inplace=True)\n",
            "  (5): Dropout(p=0.5, inplace=False)\n",
            "  (6): Linear(in_features=4096, out_features=1000, bias=True)\n",
            ")\n",
            " child 3 is -\n",
            "Linear(in_features=1000, out_features=10, bias=True)\n"
          ],
          "name": "stdout"
        }
      ]
    },
    {
      "cell_type": "code",
      "metadata": {
        "id": "FEFXfIFWooP2",
        "outputId": "a462a5f2-5332-4436-ca8c-d161230f8843",
        "colab": {
          "base_uri": "https://localhost:8080/",
          "height": 621
        }
      },
      "source": [
        "child_counter = 0\n",
        "for child in model_vgg16_2.children():\n",
        "    if child_counter <1:\n",
        "        children_of_child_counter = 0\n",
        "        for children_of_child in child.children():\n",
        "            if children_of_child_counter < 24:\n",
        "                for param in children_of_child.parameters():\n",
        "                    param.requires_grad = False\n",
        "                print('child ', children_of_child_counter, 'of child',child_counter,' was frozen')\n",
        "            else:\n",
        "                for param in children_of_child.parameters():\n",
        "                    param.requires_grad = True\n",
        "                print('child ', children_of_child_counter, 'of child',child_counter,' was not frozen')\n",
        "            children_of_child_counter += 1\n",
        "\n",
        "    else:\n",
        "        child.requires_grad = True\n",
        "        print(\"child \",child_counter,\" was not frozen\")\n",
        "    child_counter += 1"
      ],
      "execution_count": null,
      "outputs": [
        {
          "output_type": "stream",
          "text": [
            "child  0 of child 0  was frozen\n",
            "child  1 of child 0  was frozen\n",
            "child  2 of child 0  was frozen\n",
            "child  3 of child 0  was frozen\n",
            "child  4 of child 0  was frozen\n",
            "child  5 of child 0  was frozen\n",
            "child  6 of child 0  was frozen\n",
            "child  7 of child 0  was frozen\n",
            "child  8 of child 0  was frozen\n",
            "child  9 of child 0  was frozen\n",
            "child  10 of child 0  was frozen\n",
            "child  11 of child 0  was frozen\n",
            "child  12 of child 0  was frozen\n",
            "child  13 of child 0  was frozen\n",
            "child  14 of child 0  was frozen\n",
            "child  15 of child 0  was frozen\n",
            "child  16 of child 0  was frozen\n",
            "child  17 of child 0  was frozen\n",
            "child  18 of child 0  was frozen\n",
            "child  19 of child 0  was frozen\n",
            "child  20 of child 0  was frozen\n",
            "child  21 of child 0  was frozen\n",
            "child  22 of child 0  was frozen\n",
            "child  23 of child 0  was frozen\n",
            "child  24 of child 0  was not frozen\n",
            "child  25 of child 0  was not frozen\n",
            "child  26 of child 0  was not frozen\n",
            "child  27 of child 0  was not frozen\n",
            "child  28 of child 0  was not frozen\n",
            "child  29 of child 0  was not frozen\n",
            "child  30 of child 0  was not frozen\n",
            "child  1  was not frozen\n",
            "child  2  was not frozen\n",
            "child  3  was not frozen\n"
          ],
          "name": "stdout"
        }
      ]
    },
    {
      "cell_type": "code",
      "metadata": {
        "id": "F-_U6jQgohak",
        "outputId": "3d427d14-b045-4dfb-ab73-063dae5bf56e",
        "colab": {
          "base_uri": "https://localhost:8080/",
          "height": 621
        }
      },
      "source": [
        "import copy\n",
        "\n",
        "loss_func = nn.CrossEntropyLoss(reduction=\"sum\")\n",
        "opt = optim.Adam(model_vgg16_2.parameters(), lr=1e-4)\n",
        "lr_scheduler = CosineAnnealingLR(opt,T_max=5,eta_min=1e-6)\n",
        "\n",
        "params_train={\n",
        " \"num_epochs\": 10,\n",
        " \"optimizer\": opt,\n",
        " \"loss_func\": loss_func,\n",
        " \"train_dl\": train_dl,\n",
        " \"val_dl\": val_dl,\n",
        " \"sanity_check\": False,\n",
        " \"lr_scheduler\": lr_scheduler,\n",
        " \"path2weights\": folder / \"model_vgg16.pt\",\n",
        "}\n",
        "\n",
        "# train and validate the model\n",
        "model_vgg16_2,loss_hist,metric_hist=train_val(model_vgg16_2,params_train)"
      ],
      "execution_count": null,
      "outputs": [
        {
          "output_type": "stream",
          "text": [
            "Epoch 0/9, current lr=0.0001\n",
            "Copied best model weights!\n",
            "train loss: 0.840401, dev loss: 0.850434, accuracy: 73.78\n",
            "----------\n",
            "Epoch 1/9, current lr=9.05463412215599e-05\n",
            "Copied best model weights!\n",
            "train loss: 0.790354, dev loss: 0.838648, accuracy: 74.97\n",
            "----------\n",
            "Epoch 2/9, current lr=6.57963412215599e-05\n",
            "Copied best model weights!\n",
            "train loss: 0.703015, dev loss: 0.785239, accuracy: 76.15\n",
            "----------\n",
            "Epoch 3/9, current lr=3.52036587784401e-05\n",
            "Copied best model weights!\n",
            "train loss: 0.594312, dev loss: 0.768924, accuracy: 77.16\n",
            "----------\n",
            "Epoch 4/9, current lr=1.0453658778440105e-05\n",
            "train loss: 0.514154, dev loss: 0.777917, accuracy: 77.92\n",
            "----------\n",
            "Epoch 5/9, current lr=1e-06\n",
            "train loss: 0.481857, dev loss: 0.773885, accuracy: 78.08\n",
            "----------\n",
            "Epoch 6/9, current lr=1.0453658778440102e-05\n",
            "train loss: 0.477301, dev loss: 0.830964, accuracy: 77.87\n",
            "----------\n",
            "Epoch 7/9, current lr=3.520365877844011e-05\n",
            "train loss: 0.515421, dev loss: 0.770771, accuracy: 77.62\n",
            "----------\n",
            "Epoch 8/9, current lr=6.579634122155992e-05\n",
            "train loss: 0.569866, dev loss: 0.790418, accuracy: 76.92\n",
            "----------\n",
            "Epoch 9/9, current lr=9.054634122155994e-05\n",
            "train loss: 0.636106, dev loss: 0.860946, accuracy: 75.52\n",
            "----------\n"
          ],
          "name": "stdout"
        }
      ]
    },
    {
      "cell_type": "code",
      "metadata": {
        "id": "7XL-Vsl4ohao",
        "outputId": "977cf2a1-46f1-46b2-a493-3254a3d466c1",
        "colab": {
          "base_uri": "https://localhost:8080/",
          "height": 573
        }
      },
      "source": [
        "# Train-Validation Progress\n",
        "num_epochs=params_train[\"num_epochs\"]\n",
        "\n",
        "# plot loss progress\n",
        "plt.title(\"Train-Val Loss\")\n",
        "plt.plot(range(1,num_epochs+1),loss_hist[\"train\"],label=\"train\")\n",
        "plt.plot(range(1,num_epochs+1),loss_hist[\"val\"],label=\"val\")\n",
        "plt.ylabel(\"Loss\")\n",
        "plt.xlabel(\"Training Epochs\")\n",
        "plt.legend()\n",
        "plt.show()\n",
        "\n",
        "# plot accuracy progress\n",
        "plt.title(\"Train-Val Accuracy\")\n",
        "plt.plot(range(1,num_epochs+1),metric_hist[\"train\"],label=\"train\")\n",
        "plt.plot(range(1,num_epochs+1),metric_hist[\"val\"],label=\"val\")\n",
        "plt.ylabel(\"Accuracy\")\n",
        "plt.xlabel(\"Training Epochs\")\n",
        "plt.legend()\n",
        "plt.show()"
      ],
      "execution_count": null,
      "outputs": [
        {
          "output_type": "display_data",
          "data": {
            "image/png": "[encoded data removed]",
            "text/plain": [
              "<Figure size 432x288 with 1 Axes>"
            ]
          },
          "metadata": {
            "tags": [],
            "needs_background": "light"
          }
        },
        {
          "output_type": "display_data",
          "data": {
            "image/png": "[encoded data removed]",
            "text/plain": [
              "<Figure size 432x288 with 1 Axes>"
            ]
          },
          "metadata": {
            "tags": [],
            "needs_background": "light"
          }
        }
      ]
    },
    {
      "cell_type": "markdown",
      "metadata": {
        "id": "8D-VGrH--faR"
      },
      "source": [
        "# Task 3"
      ]
    },
    {
      "cell_type": "markdown",
      "metadata": {
        "id": "FWLURI-j-faS"
      },
      "source": [
        "## Unfreeze last two CNN block"
      ]
    },
    {
      "cell_type": "code",
      "metadata": {
        "id": "zEg0VPzo-faW",
        "outputId": "d9a7d1ba-7fa8-40a7-cd18-16cca9e2bfbe",
        "colab": {
          "base_uri": "https://localhost:8080/",
          "height": 621
        }
      },
      "source": [
        "model_vgg16_3 = model_vgg16\n",
        "\n",
        "child_counter = 0\n",
        "for child in model_vgg16_3.children():\n",
        "    if child_counter <1:\n",
        "        children_of_child_counter = 0\n",
        "        for children_of_child in child.children():\n",
        "            if children_of_child_counter < 17:\n",
        "                for param in children_of_child.parameters():\n",
        "                    param.requires_grad = False\n",
        "                print('child ', children_of_child_counter, 'of child',child_counter,' was frozen')\n",
        "            else:\n",
        "                for param in children_of_child.parameters():\n",
        "                    param.requires_grad = True\n",
        "                print('child ', children_of_child_counter, 'of child',child_counter,' was not frozen')\n",
        "            children_of_child_counter += 1\n",
        "\n",
        "    else:\n",
        "        child.requires_grad = True\n",
        "        print(\"child \",child_counter,\" was not frozen\")\n",
        "    child_counter += 1"
      ],
      "execution_count": null,
      "outputs": [
        {
          "output_type": "stream",
          "text": [
            "child  0 of child 0  was frozen\n",
            "child  1 of child 0  was frozen\n",
            "child  2 of child 0  was frozen\n",
            "child  3 of child 0  was frozen\n",
            "child  4 of child 0  was frozen\n",
            "child  5 of child 0  was frozen\n",
            "child  6 of child 0  was frozen\n",
            "child  7 of child 0  was frozen\n",
            "child  8 of child 0  was frozen\n",
            "child  9 of child 0  was frozen\n",
            "child  10 of child 0  was frozen\n",
            "child  11 of child 0  was frozen\n",
            "child  12 of child 0  was frozen\n",
            "child  13 of child 0  was frozen\n",
            "child  14 of child 0  was frozen\n",
            "child  15 of child 0  was frozen\n",
            "child  16 of child 0  was frozen\n",
            "child  17 of child 0  was not frozen\n",
            "child  18 of child 0  was not frozen\n",
            "child  19 of child 0  was not frozen\n",
            "child  20 of child 0  was not frozen\n",
            "child  21 of child 0  was not frozen\n",
            "child  22 of child 0  was not frozen\n",
            "child  23 of child 0  was not frozen\n",
            "child  24 of child 0  was not frozen\n",
            "child  25 of child 0  was not frozen\n",
            "child  26 of child 0  was not frozen\n",
            "child  27 of child 0  was not frozen\n",
            "child  28 of child 0  was not frozen\n",
            "child  29 of child 0  was not frozen\n",
            "child  30 of child 0  was not frozen\n",
            "child  1  was not frozen\n",
            "child  2  was not frozen\n",
            "child  3  was not frozen\n"
          ],
          "name": "stdout"
        }
      ]
    },
    {
      "cell_type": "code",
      "metadata": {
        "id": "_YirzHrO-fae",
        "outputId": "c30c9231-824b-4aac-bb2f-bf180bc568fa",
        "colab": {
          "base_uri": "https://localhost:8080/",
          "height": 372
        }
      },
      "source": [
        "import copy\n",
        "\n",
        "loss_func = nn.CrossEntropyLoss(reduction=\"sum\")\n",
        "opt = optim.Adam(model_vgg16_3.parameters(), lr=1e-4)\n",
        "lr_scheduler = CosineAnnealingLR(opt,T_max=5,eta_min=1e-6)\n",
        "\n",
        "params_train={\n",
        " \"num_epochs\": 5,\n",
        " \"optimizer\": opt,\n",
        " \"loss_func\": loss_func,\n",
        " \"train_dl\": train_dl,\n",
        " \"val_dl\": val_dl,\n",
        " \"sanity_check\": False,\n",
        " \"lr_scheduler\": lr_scheduler,\n",
        " \"path2weights\": folder / \"model_vgg16.pt\",\n",
        "}\n",
        "\n",
        "# train and validate the model\n",
        "model_vgg16_3,loss_hist,metric_hist=train_val(model_vgg16_3,params_train)"
      ],
      "execution_count": null,
      "outputs": [
        {
          "output_type": "stream",
          "text": [
            "Epoch 0/4, current lr=0.0001\n",
            "Copied best model weights!\n",
            "train loss: 0.944239, dev loss: 0.862822, accuracy: 72.70\n",
            "----------\n",
            "Epoch 1/4, current lr=9.05463412215599e-05\n",
            "Copied best model weights!\n",
            "train loss: 0.802573, dev loss: 0.698477, accuracy: 77.83\n",
            "----------\n",
            "Epoch 2/4, current lr=6.57963412215599e-05\n",
            "Copied best model weights!\n",
            "train loss: 0.647387, dev loss: 0.627957, accuracy: 79.77\n",
            "----------\n",
            "Epoch 3/4, current lr=3.52036587784401e-05\n",
            "Copied best model weights!\n",
            "train loss: 0.519965, dev loss: 0.604001, accuracy: 81.00\n",
            "----------\n",
            "Epoch 4/4, current lr=1.0453658778440105e-05\n",
            "Copied best model weights!\n",
            "train loss: 0.425767, dev loss: 0.580109, accuracy: 82.30\n",
            "----------\n"
          ],
          "name": "stdout"
        }
      ]
    },
    {
      "cell_type": "code",
      "metadata": {
        "id": "LJnSwthZ-fak",
        "outputId": "a63183c1-1a9b-4391-e171-27fc547ada56",
        "colab": {
          "base_uri": "https://localhost:8080/",
          "height": 573
        }
      },
      "source": [
        "# Train-Validation Progress\n",
        "num_epochs=params_train[\"num_epochs\"]\n",
        "\n",
        "# plot loss progress\n",
        "plt.title(\"Train-Val Loss\")\n",
        "plt.plot(range(1,num_epochs+1),loss_hist[\"train\"],label=\"train\")\n",
        "plt.plot(range(1,num_epochs+1),loss_hist[\"val\"],label=\"val\")\n",
        "plt.ylabel(\"Loss\")\n",
        "plt.xlabel(\"Training Epochs\")\n",
        "plt.legend()\n",
        "plt.show()\n",
        "\n",
        "# plot accuracy progress\n",
        "plt.title(\"Train-Val Accuracy\")\n",
        "plt.plot(range(1,num_epochs+1),metric_hist[\"train\"],label=\"train\")\n",
        "plt.plot(range(1,num_epochs+1),metric_hist[\"val\"],label=\"val\")\n",
        "plt.ylabel(\"Accuracy\")\n",
        "plt.xlabel(\"Training Epochs\")\n",
        "plt.legend()\n",
        "plt.show()"
      ],
      "execution_count": null,
      "outputs": [
        {
          "output_type": "display_data",
          "data": {
            "image/png": "[encoded data removed]",
            "text/plain": [
              "<Figure size 432x288 with 1 Axes>"
            ]
          },
          "metadata": {
            "tags": [],
            "needs_background": "light"
          }
        },
        {
          "output_type": "display_data",
          "data": {
            "image/png": "[encoded data removed]",
            "text/plain": [
              "<Figure size 432x288 with 1 Axes>"
            ]
          },
          "metadata": {
            "tags": [],
            "needs_background": "light"
          }
        }
      ]
    },
    {
      "cell_type": "markdown",
      "metadata": {
        "id": "b1bbKrzsQ3N2"
      },
      "source": [
        "# Task 4"
      ]
    },
    {
      "cell_type": "markdown",
      "metadata": {
        "id": "q7Fb0AY7lkle"
      },
      "source": [
        "## Resnet 18 model"
      ]
    },
    {
      "cell_type": "code",
      "metadata": {
        "id": "h-7YYqV8eBXH"
      },
      "source": [
        "from torchvision import models\n",
        "import torch\n",
        "\n",
        "# load model with random weights\n",
        "model_resnet18 = models.resnet18(pretrained=True)"
      ],
      "execution_count": null,
      "outputs": []
    },
    {
      "cell_type": "code",
      "metadata": {
        "id": "4mBmemunemXx",
        "outputId": "e18252ab-133c-4810-ad02-eb74b6a8ca06",
        "colab": {
          "base_uri": "https://localhost:8080/",
          "height": 1000
        }
      },
      "source": [
        "print(model_resnet18)"
      ],
      "execution_count": null,
      "outputs": [
        {
          "output_type": "stream",
          "text": [
            "ResNet(\n",
            "  (conv1): Conv2d(3, 64, kernel_size=(7, 7), stride=(2, 2), padding=(3, 3), bias=False)\n",
            "  (bn1): BatchNorm2d(64, eps=1e-05, momentum=0.1, affine=True, track_running_stats=True)\n",
            "  (relu): ReLU(inplace=True)\n",
            "  (maxpool): MaxPool2d(kernel_size=3, stride=2, padding=1, dilation=1, ceil_mode=False)\n",
            "  (layer1): Sequential(\n",
            "    (0): BasicBlock(\n",
            "      (conv1): Conv2d(64, 64, kernel_size=(3, 3), stride=(1, 1), padding=(1, 1), bias=False)\n",
            "      (bn1): BatchNorm2d(64, eps=1e-05, momentum=0.1, affine=True, track_running_stats=True)\n",
            "      (relu): ReLU(inplace=True)\n",
            "      (conv2): Conv2d(64, 64, kernel_size=(3, 3), stride=(1, 1), padding=(1, 1), bias=False)\n",
            "      (bn2): BatchNorm2d(64, eps=1e-05, momentum=0.1, affine=True, track_running_stats=True)\n",
            "    )\n",
            "    (1): BasicBlock(\n",
            "      (conv1): Conv2d(64, 64, kernel_size=(3, 3), stride=(1, 1), padding=(1, 1), bias=False)\n",
            "      (bn1): BatchNorm2d(64, eps=1e-05, momentum=0.1, affine=True, track_running_stats=True)\n",
            "      (relu): ReLU(inplace=True)\n",
            "      (conv2): Conv2d(64, 64, kernel_size=(3, 3), stride=(1, 1), padding=(1, 1), bias=False)\n",
            "      (bn2): BatchNorm2d(64, eps=1e-05, momentum=0.1, affine=True, track_running_stats=True)\n",
            "    )\n",
            "  )\n",
            "  (layer2): Sequential(\n",
            "    (0): BasicBlock(\n",
            "      (conv1): Conv2d(64, 128, kernel_size=(3, 3), stride=(2, 2), padding=(1, 1), bias=False)\n",
            "      (bn1): BatchNorm2d(128, eps=1e-05, momentum=0.1, affine=True, track_running_stats=True)\n",
            "      (relu): ReLU(inplace=True)\n",
            "      (conv2): Conv2d(128, 128, kernel_size=(3, 3), stride=(1, 1), padding=(1, 1), bias=False)\n",
            "      (bn2): BatchNorm2d(128, eps=1e-05, momentum=0.1, affine=True, track_running_stats=True)\n",
            "      (downsample): Sequential(\n",
            "        (0): Conv2d(64, 128, kernel_size=(1, 1), stride=(2, 2), bias=False)\n",
            "        (1): BatchNorm2d(128, eps=1e-05, momentum=0.1, affine=True, track_running_stats=True)\n",
            "      )\n",
            "    )\n",
            "    (1): BasicBlock(\n",
            "      (conv1): Conv2d(128, 128, kernel_size=(3, 3), stride=(1, 1), padding=(1, 1), bias=False)\n",
            "      (bn1): BatchNorm2d(128, eps=1e-05, momentum=0.1, affine=True, track_running_stats=True)\n",
            "      (relu): ReLU(inplace=True)\n",
            "      (conv2): Conv2d(128, 128, kernel_size=(3, 3), stride=(1, 1), padding=(1, 1), bias=False)\n",
            "      (bn2): BatchNorm2d(128, eps=1e-05, momentum=0.1, affine=True, track_running_stats=True)\n",
            "    )\n",
            "  )\n",
            "  (layer3): Sequential(\n",
            "    (0): BasicBlock(\n",
            "      (conv1): Conv2d(128, 256, kernel_size=(3, 3), stride=(2, 2), padding=(1, 1), bias=False)\n",
            "      (bn1): BatchNorm2d(256, eps=1e-05, momentum=0.1, affine=True, track_running_stats=True)\n",
            "      (relu): ReLU(inplace=True)\n",
            "      (conv2): Conv2d(256, 256, kernel_size=(3, 3), stride=(1, 1), padding=(1, 1), bias=False)\n",
            "      (bn2): BatchNorm2d(256, eps=1e-05, momentum=0.1, affine=True, track_running_stats=True)\n",
            "      (downsample): Sequential(\n",
            "        (0): Conv2d(128, 256, kernel_size=(1, 1), stride=(2, 2), bias=False)\n",
            "        (1): BatchNorm2d(256, eps=1e-05, momentum=0.1, affine=True, track_running_stats=True)\n",
            "      )\n",
            "    )\n",
            "    (1): BasicBlock(\n",
            "      (conv1): Conv2d(256, 256, kernel_size=(3, 3), stride=(1, 1), padding=(1, 1), bias=False)\n",
            "      (bn1): BatchNorm2d(256, eps=1e-05, momentum=0.1, affine=True, track_running_stats=True)\n",
            "      (relu): ReLU(inplace=True)\n",
            "      (conv2): Conv2d(256, 256, kernel_size=(3, 3), stride=(1, 1), padding=(1, 1), bias=False)\n",
            "      (bn2): BatchNorm2d(256, eps=1e-05, momentum=0.1, affine=True, track_running_stats=True)\n",
            "    )\n",
            "  )\n",
            "  (layer4): Sequential(\n",
            "    (0): BasicBlock(\n",
            "      (conv1): Conv2d(256, 512, kernel_size=(3, 3), stride=(2, 2), padding=(1, 1), bias=False)\n",
            "      (bn1): BatchNorm2d(512, eps=1e-05, momentum=0.1, affine=True, track_running_stats=True)\n",
            "      (relu): ReLU(inplace=True)\n",
            "      (conv2): Conv2d(512, 512, kernel_size=(3, 3), stride=(1, 1), padding=(1, 1), bias=False)\n",
            "      (bn2): BatchNorm2d(512, eps=1e-05, momentum=0.1, affine=True, track_running_stats=True)\n",
            "      (downsample): Sequential(\n",
            "        (0): Conv2d(256, 512, kernel_size=(1, 1), stride=(2, 2), bias=False)\n",
            "        (1): BatchNorm2d(512, eps=1e-05, momentum=0.1, affine=True, track_running_stats=True)\n",
            "      )\n",
            "    )\n",
            "    (1): BasicBlock(\n",
            "      (conv1): Conv2d(512, 512, kernel_size=(3, 3), stride=(1, 1), padding=(1, 1), bias=False)\n",
            "      (bn1): BatchNorm2d(512, eps=1e-05, momentum=0.1, affine=True, track_running_stats=True)\n",
            "      (relu): ReLU(inplace=True)\n",
            "      (conv2): Conv2d(512, 512, kernel_size=(3, 3), stride=(1, 1), padding=(1, 1), bias=False)\n",
            "      (bn2): BatchNorm2d(512, eps=1e-05, momentum=0.1, affine=True, track_running_stats=True)\n",
            "    )\n",
            "  )\n",
            "  (avgpool): AdaptiveAvgPool2d(output_size=(1, 1))\n",
            "  (fc): Linear(in_features=512, out_features=1000, bias=True)\n",
            ")\n"
          ],
          "name": "stdout"
        }
      ]
    },
    {
      "cell_type": "code",
      "metadata": {
        "id": "Rw_dz5Bcemgx",
        "outputId": "3862bc0a-437a-48df-bd85-0658b9854744",
        "colab": {
          "base_uri": "https://localhost:8080/",
          "height": 34
        }
      },
      "source": [
        "# upload model to GPU\n",
        "device = torch.device('cuda:0' if torch.cuda.is_available() else 'cpu')\n",
        "print(device)"
      ],
      "execution_count": null,
      "outputs": [
        {
          "output_type": "stream",
          "text": [
            "cuda:0\n"
          ],
          "name": "stdout"
        }
      ]
    },
    {
      "cell_type": "code",
      "metadata": {
        "id": "ixzi_0aYemnP",
        "outputId": "0928bf32-3576-4395-9f22-18aad04f9082",
        "colab": {
          "base_uri": "https://localhost:8080/",
          "height": 1000
        }
      },
      "source": [
        "from torch import nn\n",
        "# change the output layer\n",
        "num_classes=10\n",
        "num_ftrs = model_resnet18.fc.in_features \n",
        "model_resnet18.fc = nn.Linear(num_ftrs, num_classes)\n",
        "\n",
        "#device = torch.device(\"cuda:0\")\n",
        "model_resnet18.to(device)"
      ],
      "execution_count": null,
      "outputs": [
        {
          "output_type": "execute_result",
          "data": {
            "text/plain": [
              "ResNet(\n",
              "  (conv1): Conv2d(3, 64, kernel_size=(7, 7), stride=(2, 2), padding=(3, 3), bias=False)\n",
              "  (bn1): BatchNorm2d(64, eps=1e-05, momentum=0.1, affine=True, track_running_stats=True)\n",
              "  (relu): ReLU(inplace=True)\n",
              "  (maxpool): MaxPool2d(kernel_size=3, stride=2, padding=1, dilation=1, ceil_mode=False)\n",
              "  (layer1): Sequential(\n",
              "    (0): BasicBlock(\n",
              "      (conv1): Conv2d(64, 64, kernel_size=(3, 3), stride=(1, 1), padding=(1, 1), bias=False)\n",
              "      (bn1): BatchNorm2d(64, eps=1e-05, momentum=0.1, affine=True, track_running_stats=True)\n",
              "      (relu): ReLU(inplace=True)\n",
              "      (conv2): Conv2d(64, 64, kernel_size=(3, 3), stride=(1, 1), padding=(1, 1), bias=False)\n",
              "      (bn2): BatchNorm2d(64, eps=1e-05, momentum=0.1, affine=True, track_running_stats=True)\n",
              "    )\n",
              "    (1): BasicBlock(\n",
              "      (conv1): Conv2d(64, 64, kernel_size=(3, 3), stride=(1, 1), padding=(1, 1), bias=False)\n",
              "      (bn1): BatchNorm2d(64, eps=1e-05, momentum=0.1, affine=True, track_running_stats=True)\n",
              "      (relu): ReLU(inplace=True)\n",
              "      (conv2): Conv2d(64, 64, kernel_size=(3, 3), stride=(1, 1), padding=(1, 1), bias=False)\n",
              "      (bn2): BatchNorm2d(64, eps=1e-05, momentum=0.1, affine=True, track_running_stats=True)\n",
              "    )\n",
              "  )\n",
              "  (layer2): Sequential(\n",
              "    (0): BasicBlock(\n",
              "      (conv1): Conv2d(64, 128, kernel_size=(3, 3), stride=(2, 2), padding=(1, 1), bias=False)\n",
              "      (bn1): BatchNorm2d(128, eps=1e-05, momentum=0.1, affine=True, track_running_stats=True)\n",
              "      (relu): ReLU(inplace=True)\n",
              "      (conv2): Conv2d(128, 128, kernel_size=(3, 3), stride=(1, 1), padding=(1, 1), bias=False)\n",
              "      (bn2): BatchNorm2d(128, eps=1e-05, momentum=0.1, affine=True, track_running_stats=True)\n",
              "      (downsample): Sequential(\n",
              "        (0): Conv2d(64, 128, kernel_size=(1, 1), stride=(2, 2), bias=False)\n",
              "        (1): BatchNorm2d(128, eps=1e-05, momentum=0.1, affine=True, track_running_stats=True)\n",
              "      )\n",
              "    )\n",
              "    (1): BasicBlock(\n",
              "      (conv1): Conv2d(128, 128, kernel_size=(3, 3), stride=(1, 1), padding=(1, 1), bias=False)\n",
              "      (bn1): BatchNorm2d(128, eps=1e-05, momentum=0.1, affine=True, track_running_stats=True)\n",
              "      (relu): ReLU(inplace=True)\n",
              "      (conv2): Conv2d(128, 128, kernel_size=(3, 3), stride=(1, 1), padding=(1, 1), bias=False)\n",
              "      (bn2): BatchNorm2d(128, eps=1e-05, momentum=0.1, affine=True, track_running_stats=True)\n",
              "    )\n",
              "  )\n",
              "  (layer3): Sequential(\n",
              "    (0): BasicBlock(\n",
              "      (conv1): Conv2d(128, 256, kernel_size=(3, 3), stride=(2, 2), padding=(1, 1), bias=False)\n",
              "      (bn1): BatchNorm2d(256, eps=1e-05, momentum=0.1, affine=True, track_running_stats=True)\n",
              "      (relu): ReLU(inplace=True)\n",
              "      (conv2): Conv2d(256, 256, kernel_size=(3, 3), stride=(1, 1), padding=(1, 1), bias=False)\n",
              "      (bn2): BatchNorm2d(256, eps=1e-05, momentum=0.1, affine=True, track_running_stats=True)\n",
              "      (downsample): Sequential(\n",
              "        (0): Conv2d(128, 256, kernel_size=(1, 1), stride=(2, 2), bias=False)\n",
              "        (1): BatchNorm2d(256, eps=1e-05, momentum=0.1, affine=True, track_running_stats=True)\n",
              "      )\n",
              "    )\n",
              "    (1): BasicBlock(\n",
              "      (conv1): Conv2d(256, 256, kernel_size=(3, 3), stride=(1, 1), padding=(1, 1), bias=False)\n",
              "      (bn1): BatchNorm2d(256, eps=1e-05, momentum=0.1, affine=True, track_running_stats=True)\n",
              "      (relu): ReLU(inplace=True)\n",
              "      (conv2): Conv2d(256, 256, kernel_size=(3, 3), stride=(1, 1), padding=(1, 1), bias=False)\n",
              "      (bn2): BatchNorm2d(256, eps=1e-05, momentum=0.1, affine=True, track_running_stats=True)\n",
              "    )\n",
              "  )\n",
              "  (layer4): Sequential(\n",
              "    (0): BasicBlock(\n",
              "      (conv1): Conv2d(256, 512, kernel_size=(3, 3), stride=(2, 2), padding=(1, 1), bias=False)\n",
              "      (bn1): BatchNorm2d(512, eps=1e-05, momentum=0.1, affine=True, track_running_stats=True)\n",
              "      (relu): ReLU(inplace=True)\n",
              "      (conv2): Conv2d(512, 512, kernel_size=(3, 3), stride=(1, 1), padding=(1, 1), bias=False)\n",
              "      (bn2): BatchNorm2d(512, eps=1e-05, momentum=0.1, affine=True, track_running_stats=True)\n",
              "      (downsample): Sequential(\n",
              "        (0): Conv2d(256, 512, kernel_size=(1, 1), stride=(2, 2), bias=False)\n",
              "        (1): BatchNorm2d(512, eps=1e-05, momentum=0.1, affine=True, track_running_stats=True)\n",
              "      )\n",
              "    )\n",
              "    (1): BasicBlock(\n",
              "      (conv1): Conv2d(512, 512, kernel_size=(3, 3), stride=(1, 1), padding=(1, 1), bias=False)\n",
              "      (bn1): BatchNorm2d(512, eps=1e-05, momentum=0.1, affine=True, track_running_stats=True)\n",
              "      (relu): ReLU(inplace=True)\n",
              "      (conv2): Conv2d(512, 512, kernel_size=(3, 3), stride=(1, 1), padding=(1, 1), bias=False)\n",
              "      (bn2): BatchNorm2d(512, eps=1e-05, momentum=0.1, affine=True, track_running_stats=True)\n",
              "    )\n",
              "  )\n",
              "  (avgpool): AdaptiveAvgPool2d(output_size=(1, 1))\n",
              "  (fc): Linear(in_features=512, out_features=10, bias=True)\n",
              ")"
            ]
          },
          "metadata": {
            "tags": []
          },
          "execution_count": 101
        }
      ]
    },
    {
      "cell_type": "code",
      "metadata": {
        "id": "zny4BLxuemtO",
        "outputId": "947259b8-aaa0-4772-cab2-a071a500ae2d",
        "colab": {
          "base_uri": "https://localhost:8080/",
          "height": 1000
        }
      },
      "source": [
        "\n",
        "from torchsummary import summary\n",
        "summary(model_resnet18, input_size=(3, 224, 224))"
      ],
      "execution_count": null,
      "outputs": [
        {
          "output_type": "stream",
          "text": [
            "----------------------------------------------------------------\n",
            "        Layer (type)               Output Shape         Param #\n",
            "================================================================\n",
            "            Conv2d-1         [-1, 64, 112, 112]           9,408\n",
            "       BatchNorm2d-2         [-1, 64, 112, 112]             128\n",
            "              ReLU-3         [-1, 64, 112, 112]               0\n",
            "         MaxPool2d-4           [-1, 64, 56, 56]               0\n",
            "            Conv2d-5           [-1, 64, 56, 56]          36,864\n",
            "       BatchNorm2d-6           [-1, 64, 56, 56]             128\n",
            "              ReLU-7           [-1, 64, 56, 56]               0\n",
            "            Conv2d-8           [-1, 64, 56, 56]          36,864\n",
            "       BatchNorm2d-9           [-1, 64, 56, 56]             128\n",
            "             ReLU-10           [-1, 64, 56, 56]               0\n",
            "       BasicBlock-11           [-1, 64, 56, 56]               0\n",
            "           Conv2d-12           [-1, 64, 56, 56]          36,864\n",
            "      BatchNorm2d-13           [-1, 64, 56, 56]             128\n",
            "             ReLU-14           [-1, 64, 56, 56]               0\n",
            "           Conv2d-15           [-1, 64, 56, 56]          36,864\n",
            "      BatchNorm2d-16           [-1, 64, 56, 56]             128\n",
            "             ReLU-17           [-1, 64, 56, 56]               0\n",
            "       BasicBlock-18           [-1, 64, 56, 56]               0\n",
            "           Conv2d-19          [-1, 128, 28, 28]          73,728\n",
            "      BatchNorm2d-20          [-1, 128, 28, 28]             256\n",
            "             ReLU-21          [-1, 128, 28, 28]               0\n",
            "           Conv2d-22          [-1, 128, 28, 28]         147,456\n",
            "      BatchNorm2d-23          [-1, 128, 28, 28]             256\n",
            "           Conv2d-24          [-1, 128, 28, 28]           8,192\n",
            "      BatchNorm2d-25          [-1, 128, 28, 28]             256\n",
            "             ReLU-26          [-1, 128, 28, 28]               0\n",
            "       BasicBlock-27          [-1, 128, 28, 28]               0\n",
            "           Conv2d-28          [-1, 128, 28, 28]         147,456\n",
            "      BatchNorm2d-29          [-1, 128, 28, 28]             256\n",
            "             ReLU-30          [-1, 128, 28, 28]               0\n",
            "           Conv2d-31          [-1, 128, 28, 28]         147,456\n",
            "      BatchNorm2d-32          [-1, 128, 28, 28]             256\n",
            "             ReLU-33          [-1, 128, 28, 28]               0\n",
            "       BasicBlock-34          [-1, 128, 28, 28]               0\n",
            "           Conv2d-35          [-1, 256, 14, 14]         294,912\n",
            "      BatchNorm2d-36          [-1, 256, 14, 14]             512\n",
            "             ReLU-37          [-1, 256, 14, 14]               0\n",
            "           Conv2d-38          [-1, 256, 14, 14]         589,824\n",
            "      BatchNorm2d-39          [-1, 256, 14, 14]             512\n",
            "           Conv2d-40          [-1, 256, 14, 14]          32,768\n",
            "      BatchNorm2d-41          [-1, 256, 14, 14]             512\n",
            "             ReLU-42          [-1, 256, 14, 14]               0\n",
            "       BasicBlock-43          [-1, 256, 14, 14]               0\n",
            "           Conv2d-44          [-1, 256, 14, 14]         589,824\n",
            "      BatchNorm2d-45          [-1, 256, 14, 14]             512\n",
            "             ReLU-46          [-1, 256, 14, 14]               0\n",
            "           Conv2d-47          [-1, 256, 14, 14]         589,824\n",
            "      BatchNorm2d-48          [-1, 256, 14, 14]             512\n",
            "             ReLU-49          [-1, 256, 14, 14]               0\n",
            "       BasicBlock-50          [-1, 256, 14, 14]               0\n",
            "           Conv2d-51            [-1, 512, 7, 7]       1,179,648\n",
            "      BatchNorm2d-52            [-1, 512, 7, 7]           1,024\n",
            "             ReLU-53            [-1, 512, 7, 7]               0\n",
            "           Conv2d-54            [-1, 512, 7, 7]       2,359,296\n",
            "      BatchNorm2d-55            [-1, 512, 7, 7]           1,024\n",
            "           Conv2d-56            [-1, 512, 7, 7]         131,072\n",
            "      BatchNorm2d-57            [-1, 512, 7, 7]           1,024\n",
            "             ReLU-58            [-1, 512, 7, 7]               0\n",
            "       BasicBlock-59            [-1, 512, 7, 7]               0\n",
            "           Conv2d-60            [-1, 512, 7, 7]       2,359,296\n",
            "      BatchNorm2d-61            [-1, 512, 7, 7]           1,024\n",
            "             ReLU-62            [-1, 512, 7, 7]               0\n",
            "           Conv2d-63            [-1, 512, 7, 7]       2,359,296\n",
            "      BatchNorm2d-64            [-1, 512, 7, 7]           1,024\n",
            "             ReLU-65            [-1, 512, 7, 7]               0\n",
            "       BasicBlock-66            [-1, 512, 7, 7]               0\n",
            "AdaptiveAvgPool2d-67            [-1, 512, 1, 1]               0\n",
            "           Linear-68                   [-1, 10]           5,130\n",
            "================================================================\n",
            "Total params: 11,181,642\n",
            "Trainable params: 11,181,642\n",
            "Non-trainable params: 0\n",
            "----------------------------------------------------------------\n",
            "Input size (MB): 0.57\n",
            "Forward/backward pass size (MB): 62.79\n",
            "Params size (MB): 42.65\n",
            "Estimated Total Size (MB): 106.01\n",
            "----------------------------------------------------------------\n"
          ],
          "name": "stdout"
        }
      ]
    },
    {
      "cell_type": "code",
      "metadata": {
        "id": "2Gf10fyClyoy"
      },
      "source": [
        "model_resnet18.requires_grad_ = False\n",
        "model_resnet18.fc.requires_grad_ = True"
      ],
      "execution_count": null,
      "outputs": []
    },
    {
      "cell_type": "code",
      "metadata": {
        "id": "RP7Vlaate59b"
      },
      "source": [
        "loss_func = nn.CrossEntropyLoss(reduction=\"sum\")"
      ],
      "execution_count": null,
      "outputs": []
    },
    {
      "cell_type": "code",
      "metadata": {
        "id": "ZD7oOxwMfK1j"
      },
      "source": [
        "from torch import optim\n",
        "opt = optim.Adam(model_resnet18.parameters(), lr=1e-4)"
      ],
      "execution_count": null,
      "outputs": []
    },
    {
      "cell_type": "code",
      "metadata": {
        "id": "FoFCpZgAfK9O",
        "outputId": "e11a7991-d7a4-434a-d411-94a3dae0348a",
        "colab": {
          "base_uri": "https://localhost:8080/",
          "height": 34
        }
      },
      "source": [
        "# get learning rate \n",
        "def get_lr(opt):\n",
        "    for param_group in opt.param_groups:\n",
        "        return param_group['lr']\n",
        "\n",
        "current_lr=get_lr(opt)\n",
        "print('current lr={}'.format(current_lr))"
      ],
      "execution_count": null,
      "outputs": [
        {
          "output_type": "stream",
          "text": [
            "current lr=0.0001\n"
          ],
          "name": "stdout"
        }
      ]
    },
    {
      "cell_type": "code",
      "metadata": {
        "id": "lMuZb4vFfLC_"
      },
      "source": [
        "from torch.optim.lr_scheduler import CosineAnnealingLR\n",
        "\n",
        "lr_scheduler = CosineAnnealingLR(opt,T_max=2,eta_min=1e-5)"
      ],
      "execution_count": null,
      "outputs": []
    },
    {
      "cell_type": "code",
      "metadata": {
        "id": "FNt88irmhLN8",
        "outputId": "9e44b183-901b-4c60-e029-0d6cc54d710d",
        "colab": {
          "base_uri": "https://localhost:8080/",
          "height": 250
        }
      },
      "source": [
        "lrs=[]\n",
        "for i in range(10):\n",
        "    lr_scheduler.step()\n",
        "    lr=get_lr(opt)\n",
        "    print(\"epoch %s, lr: %.1e\" %(i,lr))\n",
        "    lrs.append(lr)"
      ],
      "execution_count": null,
      "outputs": [
        {
          "output_type": "stream",
          "text": [
            "epoch 0, lr: 5.5e-05\n",
            "epoch 1, lr: 1.0e-05\n",
            "epoch 2, lr: 5.5e-05\n",
            "epoch 3, lr: 1.0e-04\n",
            "epoch 4, lr: 5.5e-05\n",
            "epoch 5, lr: 1.0e-05\n",
            "epoch 6, lr: 5.5e-05\n",
            "epoch 7, lr: 1.0e-04\n",
            "epoch 8, lr: 5.5e-05\n",
            "epoch 9, lr: 1.0e-05\n"
          ],
          "name": "stdout"
        },
        {
          "output_type": "stream",
          "text": [
            "/usr/local/lib/python3.6/dist-packages/torch/optim/lr_scheduler.py:123: UserWarning: Detected call of `lr_scheduler.step()` before `optimizer.step()`. In PyTorch 1.1.0 and later, you should call them in the opposite order: `optimizer.step()` before `lr_scheduler.step()`.  Failure to do this will result in PyTorch skipping the first value of the learning rate schedule. See more details at https://pytorch.org/docs/stable/optim.html#how-to-adjust-learning-rate\n",
            "  \"https://pytorch.org/docs/stable/optim.html#how-to-adjust-learning-rate\", UserWarning)\n"
          ],
          "name": "stderr"
        }
      ]
    },
    {
      "cell_type": "code",
      "metadata": {
        "id": "e2jQnNsAhUUp",
        "outputId": "cee8946d-f422-4ce6-feb7-f898de1972b1",
        "colab": {
          "base_uri": "https://localhost:8080/",
          "height": 282
        }
      },
      "source": [
        "plt.plot(lrs)"
      ],
      "execution_count": null,
      "outputs": [
        {
          "output_type": "execute_result",
          "data": {
            "text/plain": [
              "[<matplotlib.lines.Line2D at 0x7f5a39cba9b0>]"
            ]
          },
          "metadata": {
            "tags": []
          },
          "execution_count": 109
        },
        {
          "output_type": "display_data",
          "data": {
            "image/png": "[encoded data removed]",
            "text/plain": [
              "<Figure size 432x288 with 1 Axes>"
            ]
          },
          "metadata": {
            "tags": [],
            "needs_background": "light"
          }
        }
      ]
    },
    {
      "cell_type": "code",
      "metadata": {
        "id": "xdkFMNS9hLUQ",
        "outputId": "2ac0e5b5-00e3-4460-e0ae-e555278f9016",
        "colab": {
          "base_uri": "https://localhost:8080/",
          "height": 230
        }
      },
      "source": [
        "import copy\n",
        "\n",
        "loss_func = nn.CrossEntropyLoss(reduction=\"sum\")\n",
        "opt = optim.Adam(model_resnet18.parameters(), lr=1e-4)\n",
        "lr_scheduler = CosineAnnealingLR(opt,T_max=5,eta_min=1e-6)\n",
        "#lr_scheduler = OneCycleLR(opt,max_lr=0.01,total_steps=10)\n",
        "\n",
        "params_train={\n",
        " \"num_epochs\": 3,\n",
        " \"optimizer\": opt,\n",
        " \"loss_func\": loss_func,\n",
        " \"train_dl\": train_dl,\n",
        " \"val_dl\": val_dl,\n",
        " \"sanity_check\": False,\n",
        " \"lr_scheduler\": lr_scheduler,\n",
        " \"path2weights\": folder / \"resnet18.pt\",\n",
        "}\n",
        "\n",
        "# train and validate the model\n",
        "model_resnet18,loss_hist,metric_hist=train_val(model_resnet18,params_train)"
      ],
      "execution_count": null,
      "outputs": [
        {
          "output_type": "stream",
          "text": [
            "Epoch 0/2, current lr=0.0001\n",
            "Copied best model weights!\n",
            "train loss: 1.216112, dev loss: 0.884886, accuracy: 69.24\n",
            "----------\n",
            "Epoch 1/2, current lr=9.05463412215599e-05\n",
            "Copied best model weights!\n",
            "train loss: 0.868156, dev loss: 0.763244, accuracy: 73.21\n",
            "----------\n",
            "Epoch 2/2, current lr=6.57963412215599e-05\n",
            "Copied best model weights!\n",
            "train loss: 0.731573, dev loss: 0.682780, accuracy: 76.54\n",
            "----------\n"
          ],
          "name": "stdout"
        }
      ]
    },
    {
      "cell_type": "code",
      "metadata": {
        "id": "UWFEZvZoD-1k"
      },
      "source": [
        ""
      ],
      "execution_count": null,
      "outputs": []
    },
    {
      "cell_type": "markdown",
      "metadata": {
        "id": "S-fWYjk2D_1q"
      },
      "source": [
        "# Test score"
      ]
    },
    {
      "cell_type": "code",
      "metadata": {
        "id": "T1OIrxUVECdE"
      },
      "source": [
        "def deploy_model(model,dataset,device, num_classes=10,sanity_check=False):\n",
        "\n",
        "    len_data=len(dataset)\n",
        "    \n",
        "    # initialize output tensor on CPU: due to GPU memory limits\n",
        "    y_out=torch.zeros(len_data,num_classes)\n",
        "    \n",
        "    # initialize ground truth on CPU: due to GPU memory limits\n",
        "    y_gt=np.zeros((len_data),dtype=\"uint8\")\n",
        "    \n",
        "    # move model to device\n",
        "    model=model.to(device)\n",
        "    \n",
        "    elapsed_times=[]\n",
        "    with torch.no_grad():\n",
        "        for i in range(len_data):\n",
        "            x,y=dataset[i]\n",
        "            y_gt[i]=y\n",
        "            start=time.time()    \n",
        "            yy=model(x.unsqueeze(0).to(device))\n",
        "            y_out[i]=torch.softmax(yy,dim=1)\n",
        "            elapsed=time.time()-start\n",
        "            elapsed_times.append(elapsed)\n",
        "\n",
        "            if sanity_check is True:\n",
        "                break\n",
        "\n",
        "    inference_time=np.mean(elapsed_times)*1000\n",
        "    print(\"average inference time per image on %s: %.2f ms \" %(device,inference_time))\n",
        "    return y_out.numpy(),y_gt"
      ],
      "execution_count": null,
      "outputs": []
    },
    {
      "cell_type": "code",
      "metadata": {
        "id": "-vDRqxsiJRQ_",
        "outputId": "ce964420-3928-4a28-f3b3-5339726e59c6",
        "colab": {
          "base_uri": "https://localhost:8080/",
          "height": 87
        }
      },
      "source": [
        "import time\n",
        "import numpy as np\n",
        "from sklearn.metrics import accuracy_score\n",
        "\n",
        "# deploy model \n",
        "y_out,y_gt=deploy_model(model_resnet18,val_ds,device=device,sanity_check=False)\n",
        "y_pred = np.argmax(y_out,axis=1)\n",
        "acc=accuracy_score(y_pred,y_gt)\n",
        "print(\"accuracy of model_4 val: %.2f\" %acc)\n",
        "\n",
        "\n",
        "y_out,y_gt=deploy_model(model_resnet18,test_ds,device=device)\n",
        "\n",
        "y_pred = np.argmax(y_out,axis=1)\n",
        "acc=accuracy_score(y_pred,y_gt)\n",
        "print(\"accuracy of model_4 test: %.2f\" %acc)"
      ],
      "execution_count": null,
      "outputs": [
        {
          "output_type": "stream",
          "text": [
            "average inference time per image on cuda:0: 5.88 ms \n",
            "accuracy of model_4 val: 0.77\n",
            "average inference time per image on cuda:0: 5.89 ms \n",
            "accuracy of model_4 test: 0.77\n"
          ],
          "name": "stdout"
        }
      ]
    }
  ]
}